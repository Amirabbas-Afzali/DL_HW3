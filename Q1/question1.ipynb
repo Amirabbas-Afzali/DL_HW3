{
  "cells": [
    {
      "cell_type": "code",
      "execution_count": null,
      "metadata": {
        "_cell_guid": "b1076dfc-b9ad-4769-8c92-a6c4dae69d19",
        "_uuid": "8f2839f25d086af736a60e9eeb907d3b93b6e0e5",
        "execution": {
          "iopub.execute_input": "2023-12-12T08:54:37.589064Z",
          "iopub.status.busy": "2023-12-12T08:54:37.588221Z",
          "iopub.status.idle": "2023-12-12T08:54:38.086796Z",
          "shell.execute_reply": "2023-12-12T08:54:38.085418Z",
          "shell.execute_reply.started": "2023-12-12T08:54:37.589022Z"
        },
        "id": "-RZ-dPv6WByn",
        "trusted": true
      },
      "outputs": [],
      "source": [
        "# This Python 3 environment comes with many helpful analytics libraries installed\n",
        "# It is defined by the kaggle/python Docker image: https://github.com/kaggle/docker-python\n",
        "# For example, here's several helpful packages to load\n",
        "\n",
        "import numpy as np # linear algebra\n",
        "import pandas as pd # data processing, CSV file I/O (e.g. pd.read_csv)\n",
        "\n",
        "# Input data files are available in the read-only \"../input/\" directory\n",
        "# For example, running this (by clicking run or pressing Shift+Enter) will list all files under the input directory\n",
        "\n",
        "import os\n",
        "for dirname, _, filenames in os.walk('/kaggle/input'):\n",
        "    for filename in filenames:\n",
        "        print(os.path.join(dirname, filename))\n",
        "\n",
        "# You can write up to 20GB to the current directory (/kaggle/working/) that gets preserved as output when you create a version using \"Save & Run All\"\n",
        "# You can also write temporary files to /kaggle/temp/, but they won't be saved outside of the current session"
      ]
    },
    {
      "cell_type": "code",
      "execution_count": null,
      "metadata": {
        "execution": {
          "iopub.execute_input": "2023-12-12T13:13:21.577217Z",
          "iopub.status.busy": "2023-12-12T13:13:21.576577Z",
          "iopub.status.idle": "2023-12-12T13:13:21.582612Z",
          "shell.execute_reply": "2023-12-12T13:13:21.581535Z",
          "shell.execute_reply.started": "2023-12-12T13:13:21.577148Z"
        },
        "id": "HKh5Kb6SWByr",
        "trusted": true
      },
      "outputs": [],
      "source": [
        "import torch\n",
        "import torchvision\n",
        "import torchvision.models as models\n",
        "import torchvision.transforms as transforms\n",
        "import torchvision.datasets as datasets\n",
        "from torch.utils.data import DataLoader\n",
        "from tqdm import tqdm\n",
        "import matplotlib.pyplot as plt\n",
        "import numpy as np\n"
      ]
    },
    {
      "cell_type": "code",
      "execution_count": null,
      "metadata": {
        "execution": {
          "iopub.execute_input": "2023-12-12T10:11:55.557376Z",
          "iopub.status.busy": "2023-12-12T10:11:55.556969Z",
          "iopub.status.idle": "2023-12-12T10:14:59.234004Z",
          "shell.execute_reply": "2023-12-12T10:14:59.232743Z",
          "shell.execute_reply.started": "2023-12-12T10:11:55.557341Z"
        },
        "id": "58Vua7FUWByr",
        "outputId": "64f04e77-c922-4f34-9c4b-6a651fa27131",
        "trusted": true
      },
      "outputs": [
        {
          "name": "stdout",
          "output_type": "stream",
          "text": [
            "Retrieving notices: ...working... done\n",
            "Collecting package metadata (current_repodata.json): done\n",
            "Solving environment: done\n",
            "\n",
            "\n",
            "==> WARNING: A newer version of conda exists. <==\n",
            "  current version: 23.7.4\n",
            "  latest version: 23.11.0\n",
            "\n",
            "Please update conda by running\n",
            "\n",
            "    $ conda update -n base -c conda-forge conda\n",
            "\n",
            "Or to minimize the number of packages updated during conda update use\n",
            "\n",
            "     conda install conda=23.11.0\n",
            "\n",
            "\n",
            "\n",
            "## Package Plan ##\n",
            "\n",
            "  environment location: /opt/conda\n",
            "\n",
            "  added / updated specs:\n",
            "    - gdown\n",
            "\n",
            "\n",
            "The following packages will be downloaded:\n",
            "\n",
            "    package                    |            build\n",
            "    ---------------------------|-----------------\n",
            "    filelock-3.13.1            |     pyhd8ed1ab_0          15 KB  conda-forge\n",
            "    gdown-4.7.1                |     pyhd8ed1ab_0          19 KB  conda-forge\n",
            "    ------------------------------------------------------------\n",
            "                                           Total:          34 KB\n",
            "\n",
            "The following NEW packages will be INSTALLED:\n",
            "\n",
            "  filelock           conda-forge/noarch::filelock-3.13.1-pyhd8ed1ab_0 \n",
            "  gdown              conda-forge/noarch::gdown-4.7.1-pyhd8ed1ab_0 \n",
            "\n",
            "\n",
            "\n",
            "Downloading and Extracting Packages\n",
            "filelock-3.13.1      | 15 KB     |                                       |   0% \n",
            "gdown-4.7.1          | 19 KB     |                                       |   0% \u001b[A\n",
            "filelock-3.13.1      | 15 KB     | ##################################### | 100% \u001b[A\n",
            "                                                                                \u001b[A\n",
            "                                                                                \u001b[A\n",
            "Preparing transaction: done\n",
            "Verifying transaction: done\n",
            "Executing transaction: done\n"
          ]
        }
      ],
      "source": [
        "!conda install -y gdown"
      ]
    },
    {
      "cell_type": "code",
      "execution_count": null,
      "metadata": {
        "execution": {
          "iopub.execute_input": "2023-12-12T10:19:57.858753Z",
          "iopub.status.busy": "2023-12-12T10:19:57.858107Z",
          "iopub.status.idle": "2023-12-12T10:20:04.557905Z",
          "shell.execute_reply": "2023-12-12T10:20:04.556762Z",
          "shell.execute_reply.started": "2023-12-12T10:19:57.858719Z"
        },
        "id": "0H5FSzVqWByt",
        "outputId": "cbbe3d15-ddb3-481e-9476-8877ae5d2c19",
        "trusted": true
      },
      "outputs": [
        {
          "name": "stdout",
          "output_type": "stream",
          "text": [
            "/opt/conda/lib/python3.10/site-packages/gdown/cli.py:126: FutureWarning: Option `--id` was deprecated in version 4.3.1 and will be removed in 5.0. You don't need to pass it anymore to use a file ID.\n",
            "  warnings.warn(\n",
            "Downloading...\n",
            "From (uriginal): https://drive.google.com/uc?id=1rxIHMPYPL4qnfjujvhiNGH2PnezOBKQa\n",
            "From (redirected): https://drive.google.com/uc?id=1rxIHMPYPL4qnfjujvhiNGH2PnezOBKQa&confirm=t&uuid=4a8353a6-b6ed-45b8-9340-9e583d08afea\n",
            "To: /kaggle/working/q1_model2.pth\n",
            "100%|█████████████████████████████████████████| 525M/525M [00:04<00:00, 121MB/s]\n"
          ]
        }
      ],
      "source": [
        "!gdown --id 1rxIHMPYPL4qnfjujvhiNGH2PnezOBKQa"
      ]
    },
    {
      "cell_type": "markdown",
      "metadata": {},
      "source": [
        "## Resnet50"
      ]
    },
    {
      "cell_type": "code",
      "execution_count": null,
      "metadata": {
        "execution": {
          "iopub.execute_input": "2023-12-12T13:13:24.629419Z",
          "iopub.status.busy": "2023-12-12T13:13:24.628832Z",
          "iopub.status.idle": "2023-12-12T13:13:25.665760Z",
          "shell.execute_reply": "2023-12-12T13:13:25.664936Z",
          "shell.execute_reply.started": "2023-12-12T13:13:24.629384Z"
        },
        "id": "La52C3-6WByt",
        "outputId": "8ac53db5-b336-41e1-ea9f-f79143c1967a",
        "trusted": true
      },
      "outputs": [
        {
          "name": "stderr",
          "output_type": "stream",
          "text": [
            "/opt/conda/lib/python3.10/site-packages/torchvision/models/_utils.py:208: UserWarning: The parameter 'pretrained' is deprecated since 0.13 and may be removed in the future, please use 'weights' instead.\n",
            "  warnings.warn(\n",
            "/opt/conda/lib/python3.10/site-packages/torchvision/models/_utils.py:223: UserWarning: Arguments other than a weight enum or `None` for 'weights' are deprecated since 0.13 and may be removed in the future. The current behavior is equivalent to passing `weights=ResNet50_Weights.IMAGENET1K_V1`. You can also use `weights=ResNet50_Weights.DEFAULT` to get the most up-to-date weights.\n",
            "  warnings.warn(msg)\n",
            "Downloading: \"https://download.pytorch.org/models/resnet50-0676ba61.pth\" to /root/.cache/torch/hub/checkpoints/resnet50-0676ba61.pth\n",
            "100%|██████████| 97.8M/97.8M [00:00<00:00, 238MB/s] \n"
          ]
        }
      ],
      "source": [
        "resnet50 = models.resnet50(pretrained=True)"
      ]
    },
    {
      "cell_type": "markdown",
      "metadata": {
        "id": "PK_U1nzLg6Yi"
      },
      "source": [
        "# Part 1"
      ]
    },
    {
      "cell_type": "code",
      "execution_count": null,
      "metadata": {
        "execution": {
          "iopub.execute_input": "2023-12-12T13:13:27.198752Z",
          "iopub.status.busy": "2023-12-12T13:13:27.198005Z",
          "iopub.status.idle": "2023-12-12T13:13:40.269827Z",
          "shell.execute_reply": "2023-12-12T13:13:40.268812Z",
          "shell.execute_reply.started": "2023-12-12T13:13:27.198715Z"
        },
        "id": "HKOwjElaWByt",
        "outputId": "7c78bd9b-ce1a-4371-e858-f2e5df7dabe0",
        "trusted": true
      },
      "outputs": [
        {
          "name": "stdout",
          "output_type": "stream",
          "text": [
            "Downloading https://www.cs.toronto.edu/~kriz/cifar-10-python.tar.gz to ./data/cifar-10-python.tar.gz\n"
          ]
        },
        {
          "name": "stderr",
          "output_type": "stream",
          "text": [
            "100%|██████████| 170498071/170498071 [00:08<00:00, 20752653.23it/s]\n"
          ]
        },
        {
          "name": "stdout",
          "output_type": "stream",
          "text": [
            "Extracting ./data/cifar-10-python.tar.gz to ./data\n",
            "Files already downloaded and verified\n"
          ]
        }
      ],
      "source": [
        "# Define the transformer\n",
        "transform = transforms.Compose([\n",
        "    transforms.Resize((224, 224)),\n",
        "    transforms.ToTensor(),\n",
        "    transforms.Normalize((0.5, 0.5, 0.5), (0.5, 0.5, 0.5))\n",
        "])\n",
        "\n",
        "# Load the CIFAR-10 dataset\n",
        "cifar10_dataset_train = datasets.CIFAR10(root='./data', train=True,\n",
        "                                   download=True, transform=transform)\n",
        "\n",
        "cifar10_dataset_test = datasets.CIFAR10(root='./data', train=False,\n",
        "                                   download=True, transform=transform)\n",
        "\n",
        "# Filter the dataset to include only the first two classes\n",
        "class_indices = [0, 1]\n",
        "filtered_training_dataset = torch.utils.data.Subset(cifar10_dataset_train,\n",
        "                                               [i for i in range(len(cifar10_dataset_train)) if cifar10_dataset_train.targets[i] in class_indices])\n",
        "\n",
        "filtered_testing_dataset = torch.utils.data.Subset(cifar10_dataset_test,\n",
        "                                               [i for i in range(len(cifar10_dataset_test)) if cifar10_dataset_test.targets[i] in class_indices])\n",
        "\n",
        "\n",
        "# Create a data loader\n",
        "train_data_loader = DataLoader(filtered_training_dataset, batch_size=64, shuffle=True)\n",
        "test_data_loader = DataLoader(filtered_testing_dataset, batch_size=64, shuffle=True)\n"
      ]
    },
    {
      "cell_type": "code",
      "execution_count": null,
      "metadata": {
        "execution": {
          "iopub.execute_input": "2023-12-12T13:13:40.272443Z",
          "iopub.status.busy": "2023-12-12T13:13:40.271795Z",
          "iopub.status.idle": "2023-12-12T13:13:40.279536Z",
          "shell.execute_reply": "2023-12-12T13:13:40.278536Z",
          "shell.execute_reply.started": "2023-12-12T13:13:40.272406Z"
        },
        "id": "jnl2Foa5WByu",
        "outputId": "13b939f2-ac1b-4de6-d87f-adab1dbdd842",
        "trusted": true
      },
      "outputs": [
        {
          "data": {
            "text/plain": [
              "['airplane',\n",
              " 'automobile',\n",
              " 'bird',\n",
              " 'cat',\n",
              " 'deer',\n",
              " 'dog',\n",
              " 'frog',\n",
              " 'horse',\n",
              " 'ship',\n",
              " 'truck']"
            ]
          },
          "execution_count": 9,
          "metadata": {},
          "output_type": "execute_result"
        }
      ],
      "source": [
        "classes = cifar10_dataset_train.classes\n",
        "classes"
      ]
    },
    {
      "cell_type": "code",
      "execution_count": null,
      "metadata": {
        "execution": {
          "iopub.execute_input": "2023-12-12T13:13:40.281569Z",
          "iopub.status.busy": "2023-12-12T13:13:40.281118Z",
          "iopub.status.idle": "2023-12-12T13:13:40.967451Z",
          "shell.execute_reply": "2023-12-12T13:13:40.966649Z",
          "shell.execute_reply.started": "2023-12-12T13:13:40.281534Z"
        },
        "id": "IQ1sIfk-WByv",
        "outputId": "760126ef-f76c-4792-fbbf-98070e19f148",
        "trusted": true
      },
      "outputs": [
        {
          "name": "stderr",
          "output_type": "stream",
          "text": [
            "  0%|          | 0/157 [00:00<?, ?it/s]\n"
          ]
        },
        {
          "name": "stdout",
          "output_type": "stream",
          "text": [
            "class = automobile\n"
          ]
        },
        {
          "data": {
            "image/png": "[encoded data removed]",
            "text/plain": [
              "<Figure size 640x480 with 1 Axes>"
            ]
          },
          "metadata": {},
          "output_type": "display_data"
        }
      ],
      "source": [
        "for (data, targets) in tqdm(train_data_loader):\n",
        "    index = 0\n",
        "    plt.imshow(data[index].numpy().transpose(1, 2, 0))\n",
        "    print(f'class = {classes[targets[index]]}')\n",
        "    break"
      ]
    },
    {
      "cell_type": "markdown",
      "metadata": {
        "id": "Jop7b2AvgBxL"
      },
      "source": [
        "## **resnet50** architecture"
      ]
    },
    {
      "cell_type": "code",
      "execution_count": null,
      "metadata": {
        "execution": {
          "iopub.execute_input": "2023-12-12T13:13:40.969637Z",
          "iopub.status.busy": "2023-12-12T13:13:40.969359Z",
          "iopub.status.idle": "2023-12-12T13:13:40.976314Z",
          "shell.execute_reply": "2023-12-12T13:13:40.975216Z",
          "shell.execute_reply.started": "2023-12-12T13:13:40.969612Z"
        },
        "id": "p_MkFpg3WByv",
        "outputId": "87dcff8d-3013-4da6-c572-4bc458cdeff6",
        "trusted": true
      },
      "outputs": [
        {
          "name": "stdout",
          "output_type": "stream",
          "text": [
            "ResNet(\n",
            "  (conv1): Conv2d(3, 64, kernel_size=(7, 7), stride=(2, 2), padding=(3, 3), bias=False)\n",
            "  (bn1): BatchNorm2d(64, eps=1e-05, momentum=0.1, affine=True, track_running_stats=True)\n",
            "  (relu): ReLU(inplace=True)\n",
            "  (maxpool): MaxPool2d(kernel_size=3, stride=2, padding=1, dilation=1, ceil_mode=False)\n",
            "  (layer1): Sequential(\n",
            "    (0): Bottleneck(\n",
            "      (conv1): Conv2d(64, 64, kernel_size=(1, 1), stride=(1, 1), bias=False)\n",
            "      (bn1): BatchNorm2d(64, eps=1e-05, momentum=0.1, affine=True, track_running_stats=True)\n",
            "      (conv2): Conv2d(64, 64, kernel_size=(3, 3), stride=(1, 1), padding=(1, 1), bias=False)\n",
            "      (bn2): BatchNorm2d(64, eps=1e-05, momentum=0.1, affine=True, track_running_stats=True)\n",
            "      (conv3): Conv2d(64, 256, kernel_size=(1, 1), stride=(1, 1), bias=False)\n",
            "      (bn3): BatchNorm2d(256, eps=1e-05, momentum=0.1, affine=True, track_running_stats=True)\n",
            "      (relu): ReLU(inplace=True)\n",
            "      (downsample): Sequential(\n",
            "        (0): Conv2d(64, 256, kernel_size=(1, 1), stride=(1, 1), bias=False)\n",
            "        (1): BatchNorm2d(256, eps=1e-05, momentum=0.1, affine=True, track_running_stats=True)\n",
            "      )\n",
            "    )\n",
            "    (1): Bottleneck(\n",
            "      (conv1): Conv2d(256, 64, kernel_size=(1, 1), stride=(1, 1), bias=False)\n",
            "      (bn1): BatchNorm2d(64, eps=1e-05, momentum=0.1, affine=True, track_running_stats=True)\n",
            "      (conv2): Conv2d(64, 64, kernel_size=(3, 3), stride=(1, 1), padding=(1, 1), bias=False)\n",
            "      (bn2): BatchNorm2d(64, eps=1e-05, momentum=0.1, affine=True, track_running_stats=True)\n",
            "      (conv3): Conv2d(64, 256, kernel_size=(1, 1), stride=(1, 1), bias=False)\n",
            "      (bn3): BatchNorm2d(256, eps=1e-05, momentum=0.1, affine=True, track_running_stats=True)\n",
            "      (relu): ReLU(inplace=True)\n",
            "    )\n",
            "    (2): Bottleneck(\n",
            "      (conv1): Conv2d(256, 64, kernel_size=(1, 1), stride=(1, 1), bias=False)\n",
            "      (bn1): BatchNorm2d(64, eps=1e-05, momentum=0.1, affine=True, track_running_stats=True)\n",
            "      (conv2): Conv2d(64, 64, kernel_size=(3, 3), stride=(1, 1), padding=(1, 1), bias=False)\n",
            "      (bn2): BatchNorm2d(64, eps=1e-05, momentum=0.1, affine=True, track_running_stats=True)\n",
            "      (conv3): Conv2d(64, 256, kernel_size=(1, 1), stride=(1, 1), bias=False)\n",
            "      (bn3): BatchNorm2d(256, eps=1e-05, momentum=0.1, affine=True, track_running_stats=True)\n",
            "      (relu): ReLU(inplace=True)\n",
            "    )\n",
            "  )\n",
            "  (layer2): Sequential(\n",
            "    (0): Bottleneck(\n",
            "      (conv1): Conv2d(256, 128, kernel_size=(1, 1), stride=(1, 1), bias=False)\n",
            "      (bn1): BatchNorm2d(128, eps=1e-05, momentum=0.1, affine=True, track_running_stats=True)\n",
            "      (conv2): Conv2d(128, 128, kernel_size=(3, 3), stride=(2, 2), padding=(1, 1), bias=False)\n",
            "      (bn2): BatchNorm2d(128, eps=1e-05, momentum=0.1, affine=True, track_running_stats=True)\n",
            "      (conv3): Conv2d(128, 512, kernel_size=(1, 1), stride=(1, 1), bias=False)\n",
            "      (bn3): BatchNorm2d(512, eps=1e-05, momentum=0.1, affine=True, track_running_stats=True)\n",
            "      (relu): ReLU(inplace=True)\n",
            "      (downsample): Sequential(\n",
            "        (0): Conv2d(256, 512, kernel_size=(1, 1), stride=(2, 2), bias=False)\n",
            "        (1): BatchNorm2d(512, eps=1e-05, momentum=0.1, affine=True, track_running_stats=True)\n",
            "      )\n",
            "    )\n",
            "    (1): Bottleneck(\n",
            "      (conv1): Conv2d(512, 128, kernel_size=(1, 1), stride=(1, 1), bias=False)\n",
            "      (bn1): BatchNorm2d(128, eps=1e-05, momentum=0.1, affine=True, track_running_stats=True)\n",
            "      (conv2): Conv2d(128, 128, kernel_size=(3, 3), stride=(1, 1), padding=(1, 1), bias=False)\n",
            "      (bn2): BatchNorm2d(128, eps=1e-05, momentum=0.1, affine=True, track_running_stats=True)\n",
            "      (conv3): Conv2d(128, 512, kernel_size=(1, 1), stride=(1, 1), bias=False)\n",
            "      (bn3): BatchNorm2d(512, eps=1e-05, momentum=0.1, affine=True, track_running_stats=True)\n",
            "      (relu): ReLU(inplace=True)\n",
            "    )\n",
            "    (2): Bottleneck(\n",
            "      (conv1): Conv2d(512, 128, kernel_size=(1, 1), stride=(1, 1), bias=False)\n",
            "      (bn1): BatchNorm2d(128, eps=1e-05, momentum=0.1, affine=True, track_running_stats=True)\n",
            "      (conv2): Conv2d(128, 128, kernel_size=(3, 3), stride=(1, 1), padding=(1, 1), bias=False)\n",
            "      (bn2): BatchNorm2d(128, eps=1e-05, momentum=0.1, affine=True, track_running_stats=True)\n",
            "      (conv3): Conv2d(128, 512, kernel_size=(1, 1), stride=(1, 1), bias=False)\n",
            "      (bn3): BatchNorm2d(512, eps=1e-05, momentum=0.1, affine=True, track_running_stats=True)\n",
            "      (relu): ReLU(inplace=True)\n",
            "    )\n",
            "    (3): Bottleneck(\n",
            "      (conv1): Conv2d(512, 128, kernel_size=(1, 1), stride=(1, 1), bias=False)\n",
            "      (bn1): BatchNorm2d(128, eps=1e-05, momentum=0.1, affine=True, track_running_stats=True)\n",
            "      (conv2): Conv2d(128, 128, kernel_size=(3, 3), stride=(1, 1), padding=(1, 1), bias=False)\n",
            "      (bn2): BatchNorm2d(128, eps=1e-05, momentum=0.1, affine=True, track_running_stats=True)\n",
            "      (conv3): Conv2d(128, 512, kernel_size=(1, 1), stride=(1, 1), bias=False)\n",
            "      (bn3): BatchNorm2d(512, eps=1e-05, momentum=0.1, affine=True, track_running_stats=True)\n",
            "      (relu): ReLU(inplace=True)\n",
            "    )\n",
            "  )\n",
            "  (layer3): Sequential(\n",
            "    (0): Bottleneck(\n",
            "      (conv1): Conv2d(512, 256, kernel_size=(1, 1), stride=(1, 1), bias=False)\n",
            "      (bn1): BatchNorm2d(256, eps=1e-05, momentum=0.1, affine=True, track_running_stats=True)\n",
            "      (conv2): Conv2d(256, 256, kernel_size=(3, 3), stride=(2, 2), padding=(1, 1), bias=False)\n",
            "      (bn2): BatchNorm2d(256, eps=1e-05, momentum=0.1, affine=True, track_running_stats=True)\n",
            "      (conv3): Conv2d(256, 1024, kernel_size=(1, 1), stride=(1, 1), bias=False)\n",
            "      (bn3): BatchNorm2d(1024, eps=1e-05, momentum=0.1, affine=True, track_running_stats=True)\n",
            "      (relu): ReLU(inplace=True)\n",
            "      (downsample): Sequential(\n",
            "        (0): Conv2d(512, 1024, kernel_size=(1, 1), stride=(2, 2), bias=False)\n",
            "        (1): BatchNorm2d(1024, eps=1e-05, momentum=0.1, affine=True, track_running_stats=True)\n",
            "      )\n",
            "    )\n",
            "    (1): Bottleneck(\n",
            "      (conv1): Conv2d(1024, 256, kernel_size=(1, 1), stride=(1, 1), bias=False)\n",
            "      (bn1): BatchNorm2d(256, eps=1e-05, momentum=0.1, affine=True, track_running_stats=True)\n",
            "      (conv2): Conv2d(256, 256, kernel_size=(3, 3), stride=(1, 1), padding=(1, 1), bias=False)\n",
            "      (bn2): BatchNorm2d(256, eps=1e-05, momentum=0.1, affine=True, track_running_stats=True)\n",
            "      (conv3): Conv2d(256, 1024, kernel_size=(1, 1), stride=(1, 1), bias=False)\n",
            "      (bn3): BatchNorm2d(1024, eps=1e-05, momentum=0.1, affine=True, track_running_stats=True)\n",
            "      (relu): ReLU(inplace=True)\n",
            "    )\n",
            "    (2): Bottleneck(\n",
            "      (conv1): Conv2d(1024, 256, kernel_size=(1, 1), stride=(1, 1), bias=False)\n",
            "      (bn1): BatchNorm2d(256, eps=1e-05, momentum=0.1, affine=True, track_running_stats=True)\n",
            "      (conv2): Conv2d(256, 256, kernel_size=(3, 3), stride=(1, 1), padding=(1, 1), bias=False)\n",
            "      (bn2): BatchNorm2d(256, eps=1e-05, momentum=0.1, affine=True, track_running_stats=True)\n",
            "      (conv3): Conv2d(256, 1024, kernel_size=(1, 1), stride=(1, 1), bias=False)\n",
            "      (bn3): BatchNorm2d(1024, eps=1e-05, momentum=0.1, affine=True, track_running_stats=True)\n",
            "      (relu): ReLU(inplace=True)\n",
            "    )\n",
            "    (3): Bottleneck(\n",
            "      (conv1): Conv2d(1024, 256, kernel_size=(1, 1), stride=(1, 1), bias=False)\n",
            "      (bn1): BatchNorm2d(256, eps=1e-05, momentum=0.1, affine=True, track_running_stats=True)\n",
            "      (conv2): Conv2d(256, 256, kernel_size=(3, 3), stride=(1, 1), padding=(1, 1), bias=False)\n",
            "      (bn2): BatchNorm2d(256, eps=1e-05, momentum=0.1, affine=True, track_running_stats=True)\n",
            "      (conv3): Conv2d(256, 1024, kernel_size=(1, 1), stride=(1, 1), bias=False)\n",
            "      (bn3): BatchNorm2d(1024, eps=1e-05, momentum=0.1, affine=True, track_running_stats=True)\n",
            "      (relu): ReLU(inplace=True)\n",
            "    )\n",
            "    (4): Bottleneck(\n",
            "      (conv1): Conv2d(1024, 256, kernel_size=(1, 1), stride=(1, 1), bias=False)\n",
            "      (bn1): BatchNorm2d(256, eps=1e-05, momentum=0.1, affine=True, track_running_stats=True)\n",
            "      (conv2): Conv2d(256, 256, kernel_size=(3, 3), stride=(1, 1), padding=(1, 1), bias=False)\n",
            "      (bn2): BatchNorm2d(256, eps=1e-05, momentum=0.1, affine=True, track_running_stats=True)\n",
            "      (conv3): Conv2d(256, 1024, kernel_size=(1, 1), stride=(1, 1), bias=False)\n",
            "      (bn3): BatchNorm2d(1024, eps=1e-05, momentum=0.1, affine=True, track_running_stats=True)\n",
            "      (relu): ReLU(inplace=True)\n",
            "    )\n",
            "    (5): Bottleneck(\n",
            "      (conv1): Conv2d(1024, 256, kernel_size=(1, 1), stride=(1, 1), bias=False)\n",
            "      (bn1): BatchNorm2d(256, eps=1e-05, momentum=0.1, affine=True, track_running_stats=True)\n",
            "      (conv2): Conv2d(256, 256, kernel_size=(3, 3), stride=(1, 1), padding=(1, 1), bias=False)\n",
            "      (bn2): BatchNorm2d(256, eps=1e-05, momentum=0.1, affine=True, track_running_stats=True)\n",
            "      (conv3): Conv2d(256, 1024, kernel_size=(1, 1), stride=(1, 1), bias=False)\n",
            "      (bn3): BatchNorm2d(1024, eps=1e-05, momentum=0.1, affine=True, track_running_stats=True)\n",
            "      (relu): ReLU(inplace=True)\n",
            "    )\n",
            "  )\n",
            "  (layer4): Sequential(\n",
            "    (0): Bottleneck(\n",
            "      (conv1): Conv2d(1024, 512, kernel_size=(1, 1), stride=(1, 1), bias=False)\n",
            "      (bn1): BatchNorm2d(512, eps=1e-05, momentum=0.1, affine=True, track_running_stats=True)\n",
            "      (conv2): Conv2d(512, 512, kernel_size=(3, 3), stride=(2, 2), padding=(1, 1), bias=False)\n",
            "      (bn2): BatchNorm2d(512, eps=1e-05, momentum=0.1, affine=True, track_running_stats=True)\n",
            "      (conv3): Conv2d(512, 2048, kernel_size=(1, 1), stride=(1, 1), bias=False)\n",
            "      (bn3): BatchNorm2d(2048, eps=1e-05, momentum=0.1, affine=True, track_running_stats=True)\n",
            "      (relu): ReLU(inplace=True)\n",
            "      (downsample): Sequential(\n",
            "        (0): Conv2d(1024, 2048, kernel_size=(1, 1), stride=(2, 2), bias=False)\n",
            "        (1): BatchNorm2d(2048, eps=1e-05, momentum=0.1, affine=True, track_running_stats=True)\n",
            "      )\n",
            "    )\n",
            "    (1): Bottleneck(\n",
            "      (conv1): Conv2d(2048, 512, kernel_size=(1, 1), stride=(1, 1), bias=False)\n",
            "      (bn1): BatchNorm2d(512, eps=1e-05, momentum=0.1, affine=True, track_running_stats=True)\n",
            "      (conv2): Conv2d(512, 512, kernel_size=(3, 3), stride=(1, 1), padding=(1, 1), bias=False)\n",
            "      (bn2): BatchNorm2d(512, eps=1e-05, momentum=0.1, affine=True, track_running_stats=True)\n",
            "      (conv3): Conv2d(512, 2048, kernel_size=(1, 1), stride=(1, 1), bias=False)\n",
            "      (bn3): BatchNorm2d(2048, eps=1e-05, momentum=0.1, affine=True, track_running_stats=True)\n",
            "      (relu): ReLU(inplace=True)\n",
            "    )\n",
            "    (2): Bottleneck(\n",
            "      (conv1): Conv2d(2048, 512, kernel_size=(1, 1), stride=(1, 1), bias=False)\n",
            "      (bn1): BatchNorm2d(512, eps=1e-05, momentum=0.1, affine=True, track_running_stats=True)\n",
            "      (conv2): Conv2d(512, 512, kernel_size=(3, 3), stride=(1, 1), padding=(1, 1), bias=False)\n",
            "      (bn2): BatchNorm2d(512, eps=1e-05, momentum=0.1, affine=True, track_running_stats=True)\n",
            "      (conv3): Conv2d(512, 2048, kernel_size=(1, 1), stride=(1, 1), bias=False)\n",
            "      (bn3): BatchNorm2d(2048, eps=1e-05, momentum=0.1, affine=True, track_running_stats=True)\n",
            "      (relu): ReLU(inplace=True)\n",
            "    )\n",
            "  )\n",
            "  (avgpool): AdaptiveAvgPool2d(output_size=(1, 1))\n",
            "  (fc): Linear(in_features=2048, out_features=1000, bias=True)\n",
            ")\n"
          ]
        }
      ],
      "source": [
        "print(resnet50)"
      ]
    },
    {
      "cell_type": "code",
      "execution_count": null,
      "metadata": {
        "execution": {
          "iopub.execute_input": "2023-12-12T13:15:16.284209Z",
          "iopub.status.busy": "2023-12-12T13:15:16.283470Z",
          "iopub.status.idle": "2023-12-12T13:15:16.429401Z",
          "shell.execute_reply": "2023-12-12T13:15:16.428562Z",
          "shell.execute_reply.started": "2023-12-12T13:15:16.284175Z"
        },
        "id": "QX9FXNnMWByw",
        "trusted": true
      },
      "outputs": [],
      "source": [
        "from torch.nn.modules import ReLU,Linear,Dropout\n",
        "# freeze all parameters\n",
        "for param in resnet50.parameters():\n",
        "    param.requires_grad = False\n",
        "\n",
        "# change the output layer\n",
        "my_classifier = torch.nn.Sequential(\n",
        "    Linear(in_features=2048, out_features=4096, bias=True),\n",
        "    ReLU(inplace=True),\n",
        "    Dropout(p=0.5, inplace=False),\n",
        "    Linear(in_features=4096, out_features=2048, bias=True),\n",
        "    ReLU(inplace=True),\n",
        "    Dropout(p=0.5, inplace=False),\n",
        "    Linear(in_features=2048, out_features=2, bias=True),\n",
        ")\n",
        "\n",
        "resnet50.fc = my_classifier"
      ]
    },
    {
      "cell_type": "code",
      "execution_count": null,
      "metadata": {
        "execution": {
          "iopub.execute_input": "2023-12-12T13:15:16.431488Z",
          "iopub.status.busy": "2023-12-12T13:15:16.431037Z",
          "iopub.status.idle": "2023-12-12T13:15:16.459199Z",
          "shell.execute_reply": "2023-12-12T13:15:16.458136Z",
          "shell.execute_reply.started": "2023-12-12T13:15:16.431439Z"
        },
        "id": "Pkr6d6jTWByw",
        "outputId": "dcb65ddb-c97a-4bb7-9093-9d2fbd560870",
        "trusted": true
      },
      "outputs": [
        {
          "name": "stdout",
          "output_type": "stream",
          "text": [
            "Sequential(\n",
            "  (0): Linear(in_features=2048, out_features=4096, bias=True)\n",
            "  (1): ReLU(inplace=True)\n",
            "  (2): Dropout(p=0.5, inplace=False)\n",
            "  (3): Linear(in_features=4096, out_features=2048, bias=True)\n",
            "  (4): ReLU(inplace=True)\n",
            "  (5): Dropout(p=0.5, inplace=False)\n",
            "  (6): Linear(in_features=2048, out_features=2, bias=True)\n",
            ")\n"
          ]
        }
      ],
      "source": [
        "resnet50 = resnet50.cuda()\n",
        "print(resnet50.fc)"
      ]
    },
    {
      "cell_type": "code",
      "execution_count": null,
      "metadata": {
        "execution": {
          "iopub.execute_input": "2023-12-12T13:15:16.546585Z",
          "iopub.status.busy": "2023-12-12T13:15:16.545809Z",
          "iopub.status.idle": "2023-12-12T13:15:16.552248Z",
          "shell.execute_reply": "2023-12-12T13:15:16.551311Z",
          "shell.execute_reply.started": "2023-12-12T13:15:16.546555Z"
        },
        "id": "qzyzAfrTWByw",
        "outputId": "4eb5cd09-7595-4ac0-a1e4-857313aee1d9",
        "trusted": true
      },
      "outputs": [
        {
          "name": "stdout",
          "output_type": "stream",
          "text": [
            "The layer 'fc.0.weight' is not frozen.\n",
            "The layer 'fc.0.bias' is not frozen.\n",
            "The layer 'fc.3.weight' is not frozen.\n",
            "The layer 'fc.3.bias' is not frozen.\n",
            "The layer 'fc.6.weight' is not frozen.\n",
            "The layer 'fc.6.bias' is not frozen.\n"
          ]
        }
      ],
      "source": [
        "# check the model parameters\n",
        "for name, param in resnet50.named_parameters():\n",
        "    if param.requires_grad:\n",
        "        print(f\"The layer '{name}' is not frozen.\")"
      ]
    },
    {
      "cell_type": "code",
      "execution_count": null,
      "metadata": {
        "execution": {
          "iopub.execute_input": "2023-12-12T13:15:16.777241Z",
          "iopub.status.busy": "2023-12-12T13:15:16.776901Z",
          "iopub.status.idle": "2023-12-12T13:28:14.800467Z",
          "shell.execute_reply": "2023-12-12T13:28:14.799494Z",
          "shell.execute_reply.started": "2023-12-12T13:15:16.777213Z"
        },
        "id": "3N79YFgcWByx",
        "outputId": "09b687e5-ee36-4abc-c14e-6d4eb3852c0c",
        "trusted": true
      },
      "outputs": [
        {
          "name": "stderr",
          "output_type": "stream",
          "text": [
            "100%|██████████| 157/157 [00:31<00:00,  5.01it/s]\n"
          ]
        },
        {
          "name": "stdout",
          "output_type": "stream",
          "text": [
            "loss @ epoch 0: 8.325929641723633\n",
            "train accuracy:  82.8125\n"
          ]
        },
        {
          "name": "stderr",
          "output_type": "stream",
          "text": [
            "100%|██████████| 157/157 [00:31<00:00,  5.02it/s]\n"
          ]
        },
        {
          "name": "stdout",
          "output_type": "stream",
          "text": [
            "loss @ epoch 1: 0.37247994542121887\n",
            "train accuracy:  86.02707006369427\n"
          ]
        },
        {
          "name": "stderr",
          "output_type": "stream",
          "text": [
            "100%|██████████| 157/157 [00:31<00:00,  5.01it/s]\n"
          ]
        },
        {
          "name": "stdout",
          "output_type": "stream",
          "text": [
            "loss @ epoch 2: 0.41682255268096924\n",
            "train accuracy:  82.17555732484077\n"
          ]
        },
        {
          "name": "stderr",
          "output_type": "stream",
          "text": [
            "100%|██████████| 157/157 [00:31<00:00,  5.04it/s]\n"
          ]
        },
        {
          "name": "stdout",
          "output_type": "stream",
          "text": [
            "loss @ epoch 3: 0.5522071719169617\n",
            "train accuracy:  72.42237261146497\n"
          ]
        },
        {
          "name": "stderr",
          "output_type": "stream",
          "text": [
            "100%|██████████| 157/157 [00:31<00:00,  4.95it/s]\n"
          ]
        },
        {
          "name": "stdout",
          "output_type": "stream",
          "text": [
            "loss @ epoch 4: 0.4442068636417389\n",
            "train accuracy:  72.8702229299363\n"
          ]
        },
        {
          "name": "stderr",
          "output_type": "stream",
          "text": [
            "100%|██████████| 157/157 [00:31<00:00,  5.02it/s]\n"
          ]
        },
        {
          "name": "stdout",
          "output_type": "stream",
          "text": [
            "loss @ epoch 5: 0.3992849290370941\n",
            "train accuracy:  82.25517515923568\n"
          ]
        },
        {
          "name": "stderr",
          "output_type": "stream",
          "text": [
            "100%|██████████| 157/157 [00:31<00:00,  5.04it/s]\n"
          ]
        },
        {
          "name": "stdout",
          "output_type": "stream",
          "text": [
            "loss @ epoch 6: 0.5652391314506531\n",
            "train accuracy:  76.21417197452229\n"
          ]
        },
        {
          "name": "stderr",
          "output_type": "stream",
          "text": [
            "100%|██████████| 157/157 [00:31<00:00,  5.03it/s]\n"
          ]
        },
        {
          "name": "stdout",
          "output_type": "stream",
          "text": [
            "loss @ epoch 7: 0.4108572006225586\n",
            "train accuracy:  78.29418789808918\n"
          ]
        },
        {
          "name": "stderr",
          "output_type": "stream",
          "text": [
            "100%|██████████| 157/157 [00:31<00:00,  5.05it/s]\n"
          ]
        },
        {
          "name": "stdout",
          "output_type": "stream",
          "text": [
            "loss @ epoch 8: 0.37838563323020935\n",
            "train accuracy:  81.94665605095541\n"
          ]
        },
        {
          "name": "stderr",
          "output_type": "stream",
          "text": [
            "100%|██████████| 157/157 [00:31<00:00,  5.06it/s]\n"
          ]
        },
        {
          "name": "stdout",
          "output_type": "stream",
          "text": [
            "loss @ epoch 9: 0.3275105357170105\n",
            "train accuracy:  83.70820063694268\n"
          ]
        },
        {
          "name": "stderr",
          "output_type": "stream",
          "text": [
            "100%|██████████| 157/157 [00:30<00:00,  5.08it/s]\n"
          ]
        },
        {
          "name": "stdout",
          "output_type": "stream",
          "text": [
            "loss @ epoch 10: 0.3336014449596405\n",
            "train accuracy:  83.76791401273886\n"
          ]
        },
        {
          "name": "stderr",
          "output_type": "stream",
          "text": [
            "100%|██████████| 157/157 [00:30<00:00,  5.08it/s]\n"
          ]
        },
        {
          "name": "stdout",
          "output_type": "stream",
          "text": [
            "loss @ epoch 11: 0.3069700300693512\n",
            "train accuracy:  84.60390127388536\n"
          ]
        },
        {
          "name": "stderr",
          "output_type": "stream",
          "text": [
            "100%|██████████| 157/157 [00:31<00:00,  5.06it/s]\n"
          ]
        },
        {
          "name": "stdout",
          "output_type": "stream",
          "text": [
            "loss @ epoch 12: 0.31106439232826233\n",
            "train accuracy:  84.31528662420382\n"
          ]
        },
        {
          "name": "stderr",
          "output_type": "stream",
          "text": [
            "100%|██████████| 157/157 [00:30<00:00,  5.07it/s]\n"
          ]
        },
        {
          "name": "stdout",
          "output_type": "stream",
          "text": [
            "loss @ epoch 13: 0.31826600432395935\n",
            "train accuracy:  83.76791401273886\n"
          ]
        },
        {
          "name": "stderr",
          "output_type": "stream",
          "text": [
            "100%|██████████| 157/157 [00:30<00:00,  5.08it/s]\n"
          ]
        },
        {
          "name": "stdout",
          "output_type": "stream",
          "text": [
            "loss @ epoch 14: 0.3123739957809448\n",
            "train accuracy:  84.84275477707006\n"
          ]
        },
        {
          "name": "stderr",
          "output_type": "stream",
          "text": [
            "100%|██████████| 157/157 [00:31<00:00,  5.06it/s]\n"
          ]
        },
        {
          "name": "stdout",
          "output_type": "stream",
          "text": [
            "loss @ epoch 15: 0.33491843938827515\n",
            "train accuracy:  83.17078025477707\n"
          ]
        },
        {
          "name": "stderr",
          "output_type": "stream",
          "text": [
            "100%|██████████| 157/157 [00:31<00:00,  5.05it/s]\n"
          ]
        },
        {
          "name": "stdout",
          "output_type": "stream",
          "text": [
            "loss @ epoch 16: 0.3641027808189392\n",
            "train accuracy:  82.22531847133759\n"
          ]
        },
        {
          "name": "stderr",
          "output_type": "stream",
          "text": [
            "100%|██████████| 157/157 [00:31<00:00,  5.05it/s]\n"
          ]
        },
        {
          "name": "stdout",
          "output_type": "stream",
          "text": [
            "loss @ epoch 17: 0.32170140743255615\n",
            "train accuracy:  84.38495222929936\n"
          ]
        },
        {
          "name": "stderr",
          "output_type": "stream",
          "text": [
            "100%|██████████| 157/157 [00:31<00:00,  5.06it/s]\n"
          ]
        },
        {
          "name": "stdout",
          "output_type": "stream",
          "text": [
            "loss @ epoch 18: 0.31204870343208313\n",
            "train accuracy:  84.35509554140127\n"
          ]
        },
        {
          "name": "stderr",
          "output_type": "stream",
          "text": [
            "100%|██████████| 157/157 [00:31<00:00,  5.05it/s]\n"
          ]
        },
        {
          "name": "stdout",
          "output_type": "stream",
          "text": [
            "loss @ epoch 19: 0.31342145800590515\n",
            "train accuracy:  84.33519108280255\n"
          ]
        },
        {
          "name": "stderr",
          "output_type": "stream",
          "text": [
            "100%|██████████| 157/157 [00:31<00:00,  5.04it/s]\n"
          ]
        },
        {
          "name": "stdout",
          "output_type": "stream",
          "text": [
            "loss @ epoch 20: 0.3232495188713074\n",
            "train accuracy:  83.23049363057325\n"
          ]
        },
        {
          "name": "stderr",
          "output_type": "stream",
          "text": [
            "100%|██████████| 157/157 [00:30<00:00,  5.08it/s]\n"
          ]
        },
        {
          "name": "stdout",
          "output_type": "stream",
          "text": [
            "loss @ epoch 21: 0.3135713040828705\n",
            "train accuracy:  84.25557324840764\n"
          ]
        },
        {
          "name": "stderr",
          "output_type": "stream",
          "text": [
            "100%|██████████| 157/157 [00:31<00:00,  5.03it/s]\n"
          ]
        },
        {
          "name": "stdout",
          "output_type": "stream",
          "text": [
            "loss @ epoch 22: 0.3134514391422272\n",
            "train accuracy:  84.07643312101911\n"
          ]
        },
        {
          "name": "stderr",
          "output_type": "stream",
          "text": [
            "100%|██████████| 157/157 [00:31<00:00,  5.05it/s]\n"
          ]
        },
        {
          "name": "stdout",
          "output_type": "stream",
          "text": [
            "loss @ epoch 23: 0.3152376115322113\n",
            "train accuracy:  84.30533439490446\n"
          ]
        },
        {
          "name": "stderr",
          "output_type": "stream",
          "text": [
            "100%|██████████| 157/157 [00:30<00:00,  5.07it/s]"
          ]
        },
        {
          "name": "stdout",
          "output_type": "stream",
          "text": [
            "loss @ epoch 24: 0.3168230950832367\n",
            "train accuracy:  84.18590764331209\n"
          ]
        },
        {
          "name": "stderr",
          "output_type": "stream",
          "text": [
            "\n"
          ]
        }
      ],
      "source": [
        "criterion = torch.nn.CrossEntropyLoss()\n",
        "optimizer = torch.optim.Adam(resnet50.parameters(), lr=0.01)\n",
        "num_epochs = 25\n",
        "\n",
        "losses = []\n",
        "accuracies = []\n",
        "\n",
        "for _epoch in range(num_epochs):\n",
        "    epoch_loss = 0\n",
        "    train_acc = 0\n",
        "    for (data, targets) in tqdm(train_data_loader):\n",
        "        data = data.cuda()\n",
        "        targets = targets.cuda()\n",
        "\n",
        "        optimizer.zero_grad()\n",
        "        outputs = resnet50(data)\n",
        "        loss = criterion(outputs, targets)\n",
        "\n",
        "        _, predicted_train = torch.max(outputs, 1)\n",
        "        train_acc += (predicted_train == targets).sum().item() / len(targets)\n",
        "\n",
        "        epoch_loss += loss.item()\n",
        "        loss.backward()\n",
        "        optimizer.step()\n",
        "\n",
        "    epoch_loss /= len(train_data_loader)\n",
        "    print(f'loss @ epoch {_epoch}: {epoch_loss}')\n",
        "    print('train accuracy: ',(train_acc/len(train_data_loader))*100)\n",
        "    losses.append(epoch_loss)\n",
        "    accuracies.append((train_acc/len(train_data_loader))*100)\n",
        "\n",
        "\n"
      ]
    },
    {
      "cell_type": "code",
      "execution_count": 6,
      "metadata": {
        "colab": {
          "base_uri": "https://localhost:8080/"
        },
        "id": "mL1WLReNhB2s",
        "outputId": "1d07a9e2-d521-4100-9438-b2762bd95c7a"
      },
      "outputs": [
        {
          "name": "stdout",
          "output_type": "stream",
          "text": [
            "Mounted at /content/drive\n"
          ]
        }
      ],
      "source": [
        "from google.colab import drive\n",
        "drive.mount('/content/drive')"
      ]
    },
    {
      "cell_type": "markdown",
      "metadata": {
        "id": "eBAr68-DhXpy"
      },
      "source": [
        "Save and Load the model :"
      ]
    },
    {
      "cell_type": "code",
      "execution_count": null,
      "metadata": {
        "id": "JOcVYq4mhLYM"
      },
      "outputs": [],
      "source": [
        "torch.save(resnet50.state_dict(), '/content/drive/My Drive/DEEP/Q1/part1/q1_resnet.pth')\n",
        "\n",
        "resnet50.load_state_dict(torch.load('/content/drive/My Drive/DEEP/Q1/part1/q1_resnet.pth'))"
      ]
    },
    {
      "cell_type": "code",
      "execution_count": null,
      "metadata": {
        "execution": {
          "iopub.execute_input": "2023-12-12T13:30:20.980819Z",
          "iopub.status.busy": "2023-12-12T13:30:20.980461Z",
          "iopub.status.idle": "2023-12-12T13:30:21.217766Z",
          "shell.execute_reply": "2023-12-12T13:30:21.216868Z",
          "shell.execute_reply.started": "2023-12-12T13:30:20.980790Z"
        },
        "id": "MaqLqPFWWByx",
        "outputId": "5c51ffaf-3d9a-4ff5-aac3-631bb6d895be",
        "trusted": true
      },
      "outputs": [
        {
          "data": {
            "image/png": "[encoded data removed]",
            "text/plain": [
              "<Figure size 800x500 with 1 Axes>"
            ]
          },
          "metadata": {},
          "output_type": "display_data"
        }
      ],
      "source": [
        "plt.figure(figsize=(8, 5))\n",
        "\n",
        "plt.plot(losses, marker='o')\n",
        "plt.title('Loss')\n",
        "plt.xlabel('Epoch')\n",
        "plt.ylabel('Loss')\n",
        "plt.legend()\n",
        "plt.show()"
      ]
    },
    {
      "cell_type": "code",
      "execution_count": null,
      "metadata": {
        "execution": {
          "iopub.execute_input": "2023-12-12T13:30:32.566614Z",
          "iopub.status.busy": "2023-12-12T13:30:32.566256Z",
          "iopub.status.idle": "2023-12-12T13:30:32.864271Z",
          "shell.execute_reply": "2023-12-12T13:30:32.863348Z",
          "shell.execute_reply.started": "2023-12-12T13:30:32.566585Z"
        },
        "id": "ASpwRXzIWByx",
        "outputId": "4876eb99-f1b3-40fb-cbd3-9a59327e038a",
        "trusted": true
      },
      "outputs": [
        {
          "data": {
            "image/png": "[encoded data removed]",
            "text/plain": [
              "<Figure size 800x500 with 1 Axes>"
            ]
          },
          "metadata": {},
          "output_type": "display_data"
        }
      ],
      "source": [
        "plt.figure(figsize=(8, 5))\n",
        "\n",
        "plt.plot(accuracies, marker='o')\n",
        "plt.title('Accuracies')\n",
        "plt.xlabel('Epoch')\n",
        "plt.ylabel('accuracies')\n",
        "plt.legend()\n",
        "plt.show()"
      ]
    },
    {
      "cell_type": "code",
      "execution_count": 1,
      "metadata": {
        "colab": {
          "base_uri": "https://localhost:8080/"
        },
        "execution": {
          "iopub.execute_input": "2023-12-12T13:30:44.032945Z",
          "iopub.status.busy": "2023-12-12T13:30:44.032011Z",
          "iopub.status.idle": "2023-12-12T13:31:13.703820Z",
          "shell.execute_reply": "2023-12-12T13:31:13.702946Z",
          "shell.execute_reply.started": "2023-12-12T13:30:44.032905Z"
        },
        "id": "-YpB57VKWByy",
        "outputId": "878e38ad-1488-4d77-cc7b-2693238caca9",
        "trusted": true
      },
      "outputs": [
        {
          "name": "stdout",
          "output_type": "stream",
          "text": [
            "\n",
            " train accuracy:  84.28304140127389\n"
          ]
        }
      ],
      "source": [
        "resnet50.eval()\n",
        "\n",
        "with torch.no_grad():\n",
        "    train_accuracy = 0\n",
        "    for (data, targets) in train_data_loader:\n",
        "        data = data.cuda()\n",
        "        targets = targets.cuda()\n",
        "        train_outputs = resnet50(data)\n",
        "        _, predicted_train = torch.max(train_outputs, 1)\n",
        "        train_accuracy += (predicted_train == targets).sum().item() / len(targets)\n",
        "        # print(predicted_train)\n",
        "\n",
        "print('\\n train accuracy: ', (train_accuracy/len(train_data_loader))*100)"
      ]
    },
    {
      "cell_type": "code",
      "execution_count": 3,
      "metadata": {
        "colab": {
          "base_uri": "https://localhost:8080/"
        },
        "execution": {
          "iopub.execute_input": "2023-12-12T13:31:13.705604Z",
          "iopub.status.busy": "2023-12-12T13:31:13.705312Z",
          "iopub.status.idle": "2023-12-12T13:31:19.603361Z",
          "shell.execute_reply": "2023-12-12T13:31:19.602387Z",
          "shell.execute_reply.started": "2023-12-12T13:31:13.705578Z"
        },
        "id": "hmU4UDfKWByy",
        "outputId": "81eeb72e-8052-4480-d51b-cd2fbc7897a4",
        "trusted": true
      },
      "outputs": [
        {
          "name": "stdout",
          "output_type": "stream",
          "text": [
            "\n",
            " test accuracy:  82.044921875\n"
          ]
        }
      ],
      "source": [
        "resnet50.eval()\n",
        "\n",
        "with torch.no_grad():\n",
        "    test_accuracy = 0\n",
        "    for (data, targets) in test_data_loader:\n",
        "        data = data.cuda()\n",
        "        targets = targets.cuda()\n",
        "        test_outputs = resnet50(data)\n",
        "        _, predicted_test = torch.max(test_outputs, 1)\n",
        "        test_accuracy += (predicted_test == targets).sum().item() / len(targets)\n",
        "\n",
        "print('\\n test accuracy: ', (test_accuracy/len(test_data_loader))*100)"
      ]
    },
    {
      "cell_type": "markdown",
      "metadata": {
        "id": "PyLOpE07WByy"
      },
      "source": [
        "---\n",
        "# Part2"
      ]
    },
    {
      "cell_type": "code",
      "execution_count": null,
      "metadata": {
        "execution": {
          "iopub.execute_input": "2023-12-12T13:35:05.355570Z",
          "iopub.status.busy": "2023-12-12T13:35:05.354824Z",
          "iopub.status.idle": "2023-12-12T13:35:06.364370Z",
          "shell.execute_reply": "2023-12-12T13:35:06.363236Z",
          "shell.execute_reply.started": "2023-12-12T13:35:05.355535Z"
        },
        "id": "vsWq4F7RWBy0",
        "outputId": "06a9e533-2015-4da0-c02d-6e562e37e3d3",
        "trusted": true
      },
      "outputs": [
        {
          "name": "stdout",
          "output_type": "stream",
          "text": [
            "data  q1_model1.pth\n"
          ]
        }
      ],
      "source": [
        "!ls"
      ]
    },
    {
      "cell_type": "code",
      "execution_count": null,
      "metadata": {
        "execution": {
          "iopub.execute_input": "2023-12-12T13:35:21.795235Z",
          "iopub.status.busy": "2023-12-12T13:35:21.794831Z",
          "iopub.status.idle": "2023-12-12T13:35:22.789401Z",
          "shell.execute_reply": "2023-12-12T13:35:22.788224Z",
          "shell.execute_reply.started": "2023-12-12T13:35:21.795194Z"
        },
        "id": "hfewF4zmWBy0",
        "trusted": true
      },
      "outputs": [],
      "source": [
        "!mkdir part2"
      ]
    },
    {
      "cell_type": "code",
      "execution_count": null,
      "metadata": {
        "colab": {
          "base_uri": "https://localhost:8080/"
        },
        "execution": {
          "iopub.execute_input": "2023-12-12T13:32:05.576335Z",
          "iopub.status.busy": "2023-12-12T13:32:05.575971Z",
          "iopub.status.idle": "2023-12-12T13:32:05.585239Z",
          "shell.execute_reply": "2023-12-12T13:32:05.584276Z",
          "shell.execute_reply.started": "2023-12-12T13:32:05.576305Z"
        },
        "id": "emiz6zczWBy1",
        "outputId": "6e6c6f0e-1939-4c9a-f112-1223264674fb",
        "trusted": true
      },
      "outputs": [
        {
          "data": {
            "text/plain": [
              "device(type='cuda')"
            ]
          },
          "execution_count": 2,
          "metadata": {},
          "output_type": "execute_result"
        }
      ],
      "source": [
        "import torch\n",
        "import torch.nn as nn\n",
        "import torch.optim as optim\n",
        "import torch.nn.functional as F\n",
        "from torch.utils.data import DataLoader\n",
        "import torchvision\n",
        "import torchvision.models as models\n",
        "import torchvision.transforms as transforms\n",
        "import torchvision.datasets as datasets\n",
        "from torch.utils.data import DataLoader,Dataset,Subset\n",
        "from tqdm import tqdm\n",
        "import matplotlib.pyplot as plt\n",
        "from torch.nn.modules import ReLU,Linear,Dropout\n",
        "from torchvision.datasets import CIFAR10\n",
        "\n",
        "import numpy as np\n",
        "\n",
        "device = torch.device(\"cuda\" if torch.cuda.is_available() else \"cpu\")\n",
        "device"
      ]
    },
    {
      "cell_type": "markdown",
      "metadata": {},
      "source": [
        "using `triple loss`."
      ]
    },
    {
      "cell_type": "markdown",
      "metadata": {},
      "source": [
        "Triplet Loss was first introduced in FaceNet: A Unified Embedding for Face Recognition and Clustering in 2015, and it has been one of the most popular loss functions for supervised similarity or metric learning ever since. In its simplest explanation, Triplet Loss encourages that dissimilar pairs be distant from any similar pairs by at least a certain margin value. Mathematically, the loss value can be calculated as `L=max(d(a, p) - d(a, n) + m, 0)`, where:\n",
        "\n",
        "`p`, i.e., positive, is a sample that has the same label as `a`, i.e., anchor,\n",
        "\n",
        "`n`, i.e., negative, is another sample that has a label different from `a`,\n",
        "\n",
        "`d` is a function to measure the distance between these three samples,\n",
        "\n",
        "and `m` is a margin value to keep negative samples far apart.\n"
      ]
    },
    {
      "cell_type": "code",
      "execution_count": null,
      "metadata": {
        "colab": {
          "base_uri": "https://localhost:8080/"
        },
        "id": "z27CRstmXAyI",
        "outputId": "b7ddde04-0184-42dc-ad52-f12c45c06148"
      },
      "outputs": [
        {
          "name": "stdout",
          "output_type": "stream",
          "text": [
            "Downloading https://www.cs.toronto.edu/~kriz/cifar-10-python.tar.gz to ./data/cifar-10-python.tar.gz\n"
          ]
        },
        {
          "name": "stderr",
          "output_type": "stream",
          "text": [
            "100%|██████████| 170498071/170498071 [00:04<00:00, 35469829.23it/s]\n"
          ]
        },
        {
          "name": "stdout",
          "output_type": "stream",
          "text": [
            "Extracting ./data/cifar-10-python.tar.gz to ./data\n",
            "Files already downloaded and verified\n"
          ]
        }
      ],
      "source": [
        "class TripletDataset(Dataset):\n",
        "    def __init__(self, root_dir, train, transform=None, selected_classes=[0,1]):\n",
        "        self.root_dir = root_dir\n",
        "        self.transform = transform\n",
        "\n",
        "        self.cifar10_dataset = datasets.CIFAR10(\n",
        "            root=self.root_dir,\n",
        "            train=train,\n",
        "            download=True,\n",
        "            transform=transform)\n",
        "\n",
        "        # select 'airplane' and 'automobile' class\n",
        "        self.reduced_indices = [i for i in range(len(self.cifar10_dataset.targets)) if self.cifar10_dataset.targets[i] in selected_classes]\n",
        "        self.reduced_dataset = Subset(self.cifar10_dataset, self.reduced_indices)\n",
        "\n",
        "    def __getitem__(self, index):\n",
        "        anchor, anchor_label = self.reduced_dataset[index]\n",
        "\n",
        "        anch_label = torch.tensor(self.cifar10_dataset.targets)[self.reduced_indices]\n",
        "\n",
        "        # get positive and negative indices\n",
        "        pos_index = np.random.choice(torch.nonzero(anch_label == anchor_label).squeeze().numpy())\n",
        "        neg_index = np.random.choice(torch.nonzero(anch_label != anchor_label).squeeze().numpy())\n",
        "\n",
        "        # get positive and negative samples\n",
        "        positive, _ = self.reduced_dataset[pos_index]\n",
        "        negative, _ = self.reduced_dataset[neg_index]\n",
        "\n",
        "        return anchor, positive, negative, anchor_label\n",
        "\n",
        "    def __len__(self):\n",
        "        return len(self.reduced_dataset)\n",
        "\n",
        "\n",
        "transform = transforms.Compose([\n",
        "    transforms.ToTensor(),\n",
        "    transforms.Normalize((0.5, 0.5, 0.5), (0.5, 0.5, 0.5)),\n",
        "])\n",
        "\n",
        "trip_train_dataset = TripletDataset(root_dir='./data',train=True,\n",
        "                                           transform=transform)\n",
        "\n",
        "trip_test_dataset = TripletDataset(root_dir='./data',train=False,\n",
        "                                          transform=transform)"
      ]
    },
    {
      "cell_type": "code",
      "execution_count": null,
      "metadata": {
        "id": "Krb7-rDaqrnS"
      },
      "outputs": [],
      "source": [
        "# create DataLoader\n",
        "\n",
        "batch_size = 128\n",
        "triplet_train_loader = DataLoader(trip_train_dataset, batch_size=batch_size, shuffle=True)\n",
        "triplet_test_loader = DataLoader(trip_test_dataset, batch_size=batch_size, shuffle=False)\n"
      ]
    },
    {
      "cell_type": "code",
      "execution_count": 4,
      "metadata": {
        "colab": {
          "base_uri": "https://localhost:8080/"
        },
        "execution": {
          "iopub.execute_input": "2023-12-12T13:32:52.905213Z",
          "iopub.status.busy": "2023-12-12T13:32:52.904375Z",
          "iopub.status.idle": "2023-12-12T13:32:54.554701Z",
          "shell.execute_reply": "2023-12-12T13:32:54.553771Z",
          "shell.execute_reply.started": "2023-12-12T13:32:52.905142Z"
        },
        "id": "tIl8hLJZWBy2",
        "outputId": "e1ed4869-7824-433e-b8c7-4cde97514473",
        "trusted": true
      },
      "outputs": [
        {
          "name": "stdout",
          "output_type": "stream",
          "text": [
            "torch.Size([128, 3, 224, 224]) torch.Size([128, 3, 224, 224]) torch.Size([128, 3, 224, 224]) torch.Size([128])\n"
          ]
        }
      ],
      "source": [
        "# test the DataLoader\n",
        "for (anchor, positive, negative, anchor_label) in triple_train_data_loader:\n",
        "    print('\\n',anchor.shape,positive.shape,negative.shape,anchor_label.shape)\n",
        "\n",
        "    break\n"
      ]
    },
    {
      "cell_type": "code",
      "execution_count": null,
      "metadata": {
        "colab": {
          "base_uri": "https://localhost:8080/"
        },
        "execution": {
          "iopub.execute_input": "2023-12-12T13:32:06.161045Z",
          "iopub.status.busy": "2023-12-12T13:32:06.160683Z",
          "iopub.status.idle": "2023-12-12T13:32:06.678683Z",
          "shell.execute_reply": "2023-12-12T13:32:06.677868Z",
          "shell.execute_reply.started": "2023-12-12T13:32:06.161013Z"
        },
        "id": "l_Vwn936WBy2",
        "outputId": "65366c26-f8cb-4f01-bd69-7f466fe81cdb",
        "trusted": true
      },
      "outputs": [
        {
          "name": "stderr",
          "output_type": "stream",
          "text": [
            "/usr/local/lib/python3.10/dist-packages/torchvision/models/_utils.py:208: UserWarning: The parameter 'pretrained' is deprecated since 0.13 and may be removed in the future, please use 'weights' instead.\n",
            "  warnings.warn(\n",
            "/usr/local/lib/python3.10/dist-packages/torchvision/models/_utils.py:223: UserWarning: Arguments other than a weight enum or `None` for 'weights' are deprecated since 0.13 and may be removed in the future. The current behavior is equivalent to passing `weights=ResNet50_Weights.IMAGENET1K_V1`. You can also use `weights=ResNet50_Weights.DEFAULT` to get the most up-to-date weights.\n",
            "  warnings.warn(msg)\n",
            "Downloading: \"https://download.pytorch.org/models/resnet50-0676ba61.pth\" to /root/.cache/torch/hub/checkpoints/resnet50-0676ba61.pth\n",
            "100%|██████████| 97.8M/97.8M [00:00<00:00, 106MB/s]\n"
          ]
        }
      ],
      "source": [
        "class FeatureExtractor(nn.Module):\n",
        "    def __init__(self):\n",
        "        super(FeatureExtractor, self).__init__()\n",
        "        resnet50_FE = models.resnet50(weights='DEFAULT')\n",
        "        resnet50_FE.fc = nn.Identity() \n",
        "        self.FE = resnet50_FE \n",
        "\n",
        "    def forward(self, x): \n",
        "        return self.FE(x) \n",
        "\n",
        "bad_FeatureExtractor = FeatureExtractor().to(device=device)\n"
      ]
    },
    {
      "cell_type": "code",
      "execution_count": null,
      "metadata": {
        "colab": {
          "base_uri": "https://localhost:8080/"
        },
        "id": "g1hE12abXB3A",
        "outputId": "dbf24350-282f-40e2-8af2-28262f30820b"
      },
      "outputs": [
        {
          "name": "stderr",
          "output_type": "stream",
          "text": [
            "Downloading: \"https://download.pytorch.org/models/resnet50-11ad3fa6.pth\" to /root/.cache/torch/hub/checkpoints/resnet50-11ad3fa6.pth\n",
            "100%|██████████| 97.8M/97.8M [00:00<00:00, 147MB/s]\n"
          ]
        }
      ],
      "source": [
        "# loss function and optimizer\n",
        "\n",
        "triplet_loss = nn.TripletMarginLoss()\n",
        "optimizer    = torch.optim.Adam(bad_FeatureExtractor.parameters(), lr=0.001)\n",
        "scheduler    = torch.optim.lr_scheduler.StepLR(optimizer, step_size=10, gamma=0.1)"
      ]
    },
    {
      "cell_type": "code",
      "execution_count": null,
      "metadata": {
        "colab": {
          "base_uri": "https://localhost:8080/"
        },
        "id": "VmmcOSjxXkn8",
        "outputId": "6da3c036-926b-4cb8-fbe3-6fea34154e5c"
      },
      "outputs": [
        {
          "name": "stderr",
          "output_type": "stream",
          "text": [
            "Epoch 1/15: 100%|██████████| 79/79 [02:25<00:00,  1.85s/it]\n"
          ]
        },
        {
          "name": "stdout",
          "output_type": "stream",
          "text": [
            "Epoch: 0, \tLoss: 1.70301\n"
          ]
        },
        {
          "name": "stderr",
          "output_type": "stream",
          "text": [
            "Epoch 2/15: 100%|██████████| 79/79 [02:18<00:00,  1.76s/it]\n"
          ]
        },
        {
          "name": "stdout",
          "output_type": "stream",
          "text": [
            "Epoch: 1, \tLoss: 0.38423\n"
          ]
        },
        {
          "name": "stderr",
          "output_type": "stream",
          "text": [
            "Epoch 3/15: 100%|██████████| 79/79 [02:17<00:00,  1.74s/it]\n"
          ]
        },
        {
          "name": "stdout",
          "output_type": "stream",
          "text": [
            "Epoch: 2, \tLoss: 0.13864\n"
          ]
        },
        {
          "name": "stderr",
          "output_type": "stream",
          "text": [
            "Epoch 4/15: 100%|██████████| 79/79 [02:23<00:00,  1.82s/it]\n"
          ]
        },
        {
          "name": "stdout",
          "output_type": "stream",
          "text": [
            "Epoch: 3, \tLoss: 0.07194\n"
          ]
        },
        {
          "name": "stderr",
          "output_type": "stream",
          "text": [
            "Epoch 5/15: 100%|██████████| 79/79 [02:33<00:00,  1.94s/it]\n"
          ]
        },
        {
          "name": "stdout",
          "output_type": "stream",
          "text": [
            "Epoch: 4, \tLoss: 0.04546\n"
          ]
        },
        {
          "name": "stderr",
          "output_type": "stream",
          "text": [
            "Epoch 6/15: 100%|██████████| 79/79 [02:17<00:00,  1.74s/it]\n"
          ]
        },
        {
          "name": "stdout",
          "output_type": "stream",
          "text": [
            "Epoch: 5, \tLoss: 0.02685\n"
          ]
        },
        {
          "name": "stderr",
          "output_type": "stream",
          "text": [
            "Epoch 7/15: 100%|██████████| 79/79 [02:18<00:00,  1.75s/it]\n"
          ]
        },
        {
          "name": "stdout",
          "output_type": "stream",
          "text": [
            "Epoch: 6, \tLoss: 0.01576\n"
          ]
        },
        {
          "name": "stderr",
          "output_type": "stream",
          "text": [
            "Epoch 8/15: 100%|██████████| 79/79 [02:18<00:00,  1.75s/it]\n"
          ]
        },
        {
          "name": "stdout",
          "output_type": "stream",
          "text": [
            "Epoch: 7, \tLoss: 0.03167\n"
          ]
        },
        {
          "name": "stderr",
          "output_type": "stream",
          "text": [
            "Epoch 9/15: 100%|██████████| 79/79 [02:12<00:00,  1.67s/it]\n"
          ]
        },
        {
          "name": "stdout",
          "output_type": "stream",
          "text": [
            "Epoch: 8, \tLoss: 0.01373\n"
          ]
        },
        {
          "name": "stderr",
          "output_type": "stream",
          "text": [
            "Epoch 10/15: 100%|██████████| 79/79 [02:15<00:00,  1.71s/it]\n"
          ]
        },
        {
          "name": "stdout",
          "output_type": "stream",
          "text": [
            "Epoch: 9, \tLoss: 0.00873\n"
          ]
        },
        {
          "name": "stderr",
          "output_type": "stream",
          "text": [
            "Epoch 11/15: 100%|██████████| 79/79 [02:11<00:00,  1.67s/it]\n"
          ]
        },
        {
          "name": "stdout",
          "output_type": "stream",
          "text": [
            "Epoch: 10, \tLoss: 0.00409\n"
          ]
        },
        {
          "name": "stderr",
          "output_type": "stream",
          "text": [
            "Epoch 12/15: 100%|██████████| 79/79 [02:13<00:00,  1.69s/it]\n"
          ]
        },
        {
          "name": "stdout",
          "output_type": "stream",
          "text": [
            "Epoch: 11, \tLoss: 0.00579\n"
          ]
        },
        {
          "name": "stderr",
          "output_type": "stream",
          "text": [
            "Epoch 13/15: 100%|██████████| 79/79 [02:10<00:00,  1.65s/it]\n"
          ]
        },
        {
          "name": "stdout",
          "output_type": "stream",
          "text": [
            "Epoch: 12, \tLoss: 0.00424\n"
          ]
        },
        {
          "name": "stderr",
          "output_type": "stream",
          "text": [
            "Epoch 14/15: 100%|██████████| 79/79 [02:14<00:00,  1.70s/it]\n"
          ]
        },
        {
          "name": "stdout",
          "output_type": "stream",
          "text": [
            "Epoch: 13, \tLoss: 0.00452\n"
          ]
        },
        {
          "name": "stderr",
          "output_type": "stream",
          "text": [
            "Epoch 15/15: 100%|██████████| 79/79 [02:10<00:00,  1.66s/it]"
          ]
        },
        {
          "name": "stdout",
          "output_type": "stream",
          "text": [
            "Epoch: 14, \tLoss: 0.00767\n"
          ]
        },
        {
          "name": "stderr",
          "output_type": "stream",
          "text": [
            "\n"
          ]
        }
      ],
      "source": [
        "triple_losses = []\n",
        "num_epochs = 15\n",
        "# Train the model\n",
        "\n",
        "for epoch in range(num_epochs):\n",
        "    bad_FeatureExtractor.train()\n",
        "    epoch_loss = 0.0\n",
        "\n",
        "    for anchor, positive, negative, _ in tqdm(triplet_train_loader, desc=f'Epoch {epoch + 1}/{num_epochs}'):\n",
        "        optimizer.zero_grad()\n",
        "\n",
        "        # get embeddings\n",
        "        anchor_embedding = bad_FeatureExtractor(anchor.to(device))\n",
        "        positive_embedding = bad_FeatureExtractor(positive.to(device))\n",
        "        negative_embedding = bad_FeatureExtractor(negative.to(device))\n",
        "\n",
        "        loss = triplet_loss(anchor_embedding,positive_embedding,negative_embedding)\n",
        "\n",
        "        loss.backward()\n",
        "        optimizer.step()\n",
        "\n",
        "        epoch_loss += loss.item()\n",
        "\n",
        "    epoch_loss /= len(triplet_train_loader)\n",
        "\n",
        "    scheduler.step()\n",
        "\n",
        "    # print(f'Loss: {epoch_loss:.4f}')\n",
        "    print('Epoch: {}, \\tLoss: {:.5f}'.format(epoch,  epoch_loss))\n",
        "    triple_losses.append(epoch_loss)"
      ]
    },
    {
      "cell_type": "code",
      "execution_count": 3,
      "metadata": {
        "colab": {
          "base_uri": "https://localhost:8080/",
          "height": 504
        },
        "id": "ZciJyMh8LNmj",
        "outputId": "b4825c0b-ded5-4ee1-d49a-78fbff7502ec"
      },
      "outputs": [
        {
          "name": "stderr",
          "output_type": "stream",
          "text": [
            "WARNING:matplotlib.legend:No artists with labels found to put in legend.  Note that artists whose label start with an underscore are ignored when legend() is called with no argument.\n"
          ]
        },
        {
          "data": {
            "image/png": "[encoded data removed]",
            "text/plain": [
              "<Figure size 800x500 with 1 Axes>"
            ]
          },
          "metadata": {},
          "output_type": "display_data"
        }
      ],
      "source": [
        "plt.figure(figsize=(8, 5))\n",
        "\n",
        "plt.plot(triple_losses, marker='o')\n",
        "plt.title('Triple Loss')\n",
        "plt.xlabel('Epoch')\n",
        "plt.ylabel('Loss')\n",
        "plt.legend()\n",
        "plt.show()"
      ]
    },
    {
      "cell_type": "code",
      "execution_count": null,
      "metadata": {
        "id": "YYoqw9hBhcWg"
      },
      "outputs": [],
      "source": [
        "torch.save(bad_FeatureExtractor.state_dict(), '/content/drive/My Drive/DEEP/Q1/part2/resnet_FE.pth')"
      ]
    },
    {
      "cell_type": "code",
      "execution_count": null,
      "metadata": {
        "id": "XjENFNPtWBy3"
      },
      "outputs": [],
      "source": [
        "class MyClassifier2(nn.Module):\n",
        "    def __init__(self,featureExtractor):\n",
        "        super(MyClassifier2, self).__init__()\n",
        "        # freeze paramters of FE.\n",
        "        for param in featureExtractor.parameters():\n",
        "            param.requires_grad = False\n",
        "\n",
        "        featureExtractor.fc = torch.nn.Sequential(\n",
        "            Linear(in_features=1000, out_features=4096, bias=True),\n",
        "            ReLU(inplace=True),\n",
        "            Dropout(p=0.5, inplace=False),\n",
        "            Linear(in_features=4096, out_features=2048, bias=True),\n",
        "            ReLU(inplace=True),\n",
        "            Dropout(p=0.5, inplace=False),\n",
        "            Linear(in_features=2048, out_features=2, bias=True),\n",
        "        )\n",
        "        self.feature_extractor = featureExtractor\n",
        "\n",
        "\n",
        "    def forward(self, x):\n",
        "        x = self.feature_extractor(x)\n",
        "        return x"
      ]
    },
    {
      "cell_type": "code",
      "execution_count": null,
      "metadata": {
        "id": "P7igi2jGWBy3"
      },
      "outputs": [],
      "source": [
        "myclassifier2 = MyClassifier2(bad_FeatureExtractor).to(device)\n",
        "\n",
        "# Define loss and optimizer\n",
        "optimizer = torch.optim.Adam(MyClassifier2.parameters(), lr=0.001)\n",
        "scheduler = torch.optim.lr_scheduler.StepLR(optimizer, step_size=10, gamma=0.1)\n",
        "criterion = torch.nn.CrossEntropyLoss()"
      ]
    },
    {
      "cell_type": "code",
      "execution_count": null,
      "metadata": {
        "colab": {
          "base_uri": "https://localhost:8080/"
        },
        "id": "ruQTglUqXA1Q",
        "outputId": "dd5a4992-0b85-432e-b838-56edf341bd51"
      },
      "outputs": [
        {
          "name": "stderr",
          "output_type": "stream",
          "text": [
            "epoch 1/15: 100%|██████████| 79/79 [00:10<00:00,  7.44it/s]\n"
          ]
        },
        {
          "name": "stdout",
          "output_type": "stream",
          "text": [
            "Loss: 0.5512, Accuracy: 94.34%\n"
          ]
        },
        {
          "name": "stderr",
          "output_type": "stream",
          "text": [
            "epoch 2/15: 100%|██████████| 79/79 [00:04<00:00, 18.41it/s]\n"
          ]
        },
        {
          "name": "stdout",
          "output_type": "stream",
          "text": [
            "Loss: 0.3571, Accuracy: 99.69%\n"
          ]
        },
        {
          "name": "stderr",
          "output_type": "stream",
          "text": [
            "epoch 3/15: 100%|██████████| 79/79 [00:04<00:00, 17.77it/s]\n"
          ]
        },
        {
          "name": "stdout",
          "output_type": "stream",
          "text": [
            "Loss: 0.2569, Accuracy: 99.75%\n"
          ]
        },
        {
          "name": "stderr",
          "output_type": "stream",
          "text": [
            "epoch 4/15: 100%|██████████| 79/79 [00:03<00:00, 21.72it/s]\n"
          ]
        },
        {
          "name": "stdout",
          "output_type": "stream",
          "text": [
            "Loss: 0.1967, Accuracy: 99.66%\n"
          ]
        },
        {
          "name": "stderr",
          "output_type": "stream",
          "text": [
            "epoch 5/15: 100%|██████████| 79/79 [00:03<00:00, 21.49it/s]\n"
          ]
        },
        {
          "name": "stdout",
          "output_type": "stream",
          "text": [
            "Loss: 0.1567, Accuracy: 99.71%\n"
          ]
        },
        {
          "name": "stderr",
          "output_type": "stream",
          "text": [
            "epoch 6/15: 100%|██████████| 79/79 [00:04<00:00, 16.88it/s]\n"
          ]
        },
        {
          "name": "stdout",
          "output_type": "stream",
          "text": [
            "Loss: 0.1268, Accuracy: 99.81%\n"
          ]
        },
        {
          "name": "stderr",
          "output_type": "stream",
          "text": [
            "epoch 7/15: 100%|██████████| 79/79 [00:04<00:00, 18.98it/s]\n"
          ]
        },
        {
          "name": "stdout",
          "output_type": "stream",
          "text": [
            "Loss: 0.1063, Accuracy: 99.83%\n"
          ]
        },
        {
          "name": "stderr",
          "output_type": "stream",
          "text": [
            "epoch 8/15: 100%|██████████| 79/79 [00:03<00:00, 22.55it/s]\n"
          ]
        },
        {
          "name": "stdout",
          "output_type": "stream",
          "text": [
            "Loss: 0.0913, Accuracy: 99.87%\n"
          ]
        },
        {
          "name": "stderr",
          "output_type": "stream",
          "text": [
            "epoch 9/15: 100%|██████████| 79/79 [00:05<00:00, 15.02it/s]\n"
          ]
        },
        {
          "name": "stdout",
          "output_type": "stream",
          "text": [
            "Loss: 0.0794, Accuracy: 99.88%\n"
          ]
        },
        {
          "name": "stderr",
          "output_type": "stream",
          "text": [
            "epoch 10/15: 100%|██████████| 79/79 [00:04<00:00, 16.17it/s]\n"
          ]
        },
        {
          "name": "stdout",
          "output_type": "stream",
          "text": [
            "Loss: 0.0710, Accuracy: 99.88%\n"
          ]
        },
        {
          "name": "stderr",
          "output_type": "stream",
          "text": [
            "epoch 11/15: 100%|██████████| 79/79 [00:03<00:00, 21.90it/s]\n"
          ]
        },
        {
          "name": "stdout",
          "output_type": "stream",
          "text": [
            "Loss: 0.0666, Accuracy: 99.93%\n"
          ]
        },
        {
          "name": "stderr",
          "output_type": "stream",
          "text": [
            "epoch 12/15: 100%|██████████| 79/79 [00:03<00:00, 22.35it/s]\n"
          ]
        },
        {
          "name": "stdout",
          "output_type": "stream",
          "text": [
            "Loss: 0.0684, Accuracy: 99.78%\n"
          ]
        },
        {
          "name": "stderr",
          "output_type": "stream",
          "text": [
            "epoch 13/15: 100%|██████████| 79/79 [00:03<00:00, 20.80it/s]\n"
          ]
        },
        {
          "name": "stdout",
          "output_type": "stream",
          "text": [
            "Loss: 0.0668, Accuracy: 99.83%\n"
          ]
        },
        {
          "name": "stderr",
          "output_type": "stream",
          "text": [
            "epoch 14/15: 100%|██████████| 79/79 [00:04<00:00, 16.61it/s]\n"
          ]
        },
        {
          "name": "stdout",
          "output_type": "stream",
          "text": [
            "Loss: 0.0666, Accuracy: 99.87%\n"
          ]
        },
        {
          "name": "stderr",
          "output_type": "stream",
          "text": [
            "epoch 15/15: 100%|██████████| 79/79 [00:03<00:00, 21.64it/s]"
          ]
        },
        {
          "name": "stdout",
          "output_type": "stream",
          "text": [
            "Loss: 0.0644, Accuracy: 99.81%\n"
          ]
        },
        {
          "name": "stderr",
          "output_type": "stream",
          "text": [
            "\n"
          ]
        }
      ],
      "source": [
        "loss_list2 = []\n",
        "accuracy_list = []\n",
        "\n",
        "num_epochs = 15\n",
        "\n",
        "for epoch in range(num_epochs):\n",
        "    myclassifier2.train()\n",
        "\n",
        "    epoch_loss = 0.0\n",
        "    accuracies = []\n",
        "\n",
        "    for data, targets in tqdm(train_data_loader, desc=f'epoch {epoch+1}/{num_epochs}'):\n",
        "        data = data.to(device)\n",
        "        targets = targets.to(device)\n",
        "\n",
        "        optimizer.zero_grad()\n",
        "        outputs = myclassifier2(data)\n",
        "        loss = criterion(outputs, targets)\n",
        "        loss.backward()\n",
        "        optimizer.step()\n",
        "\n",
        "        epoch_loss += loss.item()\n",
        "\n",
        "        _, predicted = torch.max(outputs, 1)\n",
        "        correct = (predicted == targets).sum().item()\n",
        "\n",
        "        accuracies.append(correct / targets.size(0))\n",
        "\n",
        "    epoch_loss /= len(train_data_loader)\n",
        "    accuracy = np.mean(accuracies)\n",
        "\n",
        "    scheduler.step()\n",
        "\n",
        "    print(f'Loss: {epoch_loss:.4f}, Accuracy: {100*accuracy:.2f}%')\n",
        "    loss_list2.append(epoch_loss)\n",
        "    accuracy_list.append(100*accuracy)\n"
      ]
    },
    {
      "cell_type": "code",
      "execution_count": null,
      "metadata": {
        "id": "exnjp3rkp81v"
      },
      "outputs": [],
      "source": [
        "torch.save(myclassifier2.state_dict(), '/content/drive/My Drive/DEEP/Q1/part2/resnet_full.pth')\n",
        "\n",
        "myclassifier2.load_state_dict(torch.load('/content/drive/My Drive/DEEP/Q1/part2/resnet_full.pth'))"
      ]
    },
    {
      "cell_type": "code",
      "execution_count": null,
      "metadata": {
        "colab": {
          "base_uri": "https://localhost:8080/",
          "height": 482
        },
        "id": "lc58DZ6spbBu",
        "outputId": "1a48ac15-9e00-4836-b56a-2ea4ef3829c0"
      },
      "outputs": [
        {
          "name": "stderr",
          "output_type": "stream",
          "text": [
            "WARNING:matplotlib.legend:No artists with labels found to put in legend.  Note that artists whose label start with an underscore are ignored when legend() is called with no argument.\n"
          ]
        },
        {
          "data": {
            "image/png": "[encoded data removed]",
            "text/plain": [
              "<Figure size 800x500 with 1 Axes>"
            ]
          },
          "metadata": {},
          "output_type": "display_data"
        }
      ],
      "source": [
        "plt.figure(figsize=(8, 5))\n",
        "\n",
        "plt.plot(loss_list2, marker='o')\n",
        "plt.title('Cross Entropy Loss')\n",
        "plt.xlabel('Epoch')\n",
        "plt.ylabel('Loss')\n",
        "plt.legend()\n",
        "plt.show()"
      ]
    },
    {
      "cell_type": "markdown",
      "metadata": {
        "id": "oZGiBve9MziF"
      },
      "source": [
        "Accuracy diagram is almost a straight line. That is why it is not drawn."
      ]
    },
    {
      "cell_type": "code",
      "execution_count": null,
      "metadata": {
        "colab": {
          "base_uri": "https://localhost:8080/"
        },
        "id": "eiDRTv5_Ytj4",
        "outputId": "4ca5404e-31fa-4f0e-b88e-89265d67d5c7"
      },
      "outputs": [
        {
          "name": "stderr",
          "output_type": "stream",
          "text": [
            "100%|██████████| 79/79 [00:04<00:00, 16.07it/s]"
          ]
        },
        {
          "name": "stdout",
          "output_type": "stream",
          "text": [
            "train accuracy : 99.87144%\n"
          ]
        },
        {
          "name": "stderr",
          "output_type": "stream",
          "text": [
            "\n"
          ]
        }
      ],
      "source": [
        "myclassifier2.eval()\n",
        "with torch.no_grad():\n",
        "    train_accuracy = 0\n",
        "    for (data, targets) in tqdm(train_data_loader):\n",
        "        data = data.cuda()\n",
        "        targets = targets.cuda()\n",
        "        train_outputs = myclassifier2(data)\n",
        "        _, predicted_train = torch.max(train_outputs, 1)\n",
        "        train_accuracy += (predicted_train == targets).sum().item() / len(targets)\n",
        "\n",
        "\n",
        "print(f'train accuracy : {(train_accuracy/len(train_data_loader))*100:.5f}%')"
      ]
    },
    {
      "cell_type": "code",
      "execution_count": null,
      "metadata": {
        "colab": {
          "base_uri": "https://localhost:8080/"
        },
        "id": "uykscp-KYm5M",
        "outputId": "72073b2b-1e5b-4b5f-c680-762da31b2b9d"
      },
      "outputs": [
        {
          "name": "stderr",
          "output_type": "stream",
          "text": [
            "100%|██████████| 16/16 [00:00<00:00, 18.77it/s]"
          ]
        },
        {
          "name": "stdout",
          "output_type": "stream",
          "text": [
            "test accuracy : 97.24609%\n"
          ]
        },
        {
          "name": "stderr",
          "output_type": "stream",
          "text": [
            "\n"
          ]
        }
      ],
      "source": [
        "myclassifier2.eval()\n",
        "with torch.no_grad():\n",
        "    test_accuracy = 0\n",
        "    for (data, targets) in tqdm(test_data_loader):\n",
        "        data = data.cuda()\n",
        "        targets = targets.cuda()\n",
        "        test_outputs = myclassifier2(data)\n",
        "        _, predicted_test = torch.max(test_outputs, 1)\n",
        "        test_accuracy += (predicted_test == targets).sum().item() / len(targets)\n",
        "\n",
        "print(f'test accuracy : {(test_accuracy/len(test_data_loader))*100:.5f}%')"
      ]
    },
    {
      "cell_type": "markdown",
      "metadata": {
        "id": "-EkOWrO2p4_A"
      },
      "source": [
        "----\n",
        "# part3"
      ]
    },
    {
      "cell_type": "code",
      "execution_count": null,
      "metadata": {
        "id": "DYfMOdokp6rC"
      },
      "outputs": [],
      "source": [
        "class EndToEndCLF(nn.Module):\n",
        "    def __init__(self):\n",
        "        super(EndToEndCLF, self).__init__()\n",
        "\n",
        "        self.feature_extractor = models.resnet50(weights='DEFAULT')\n",
        "        self.feature_extractor.fc = nn.Identity()\n",
        "        self.classifier = torch.nn.Sequential(\n",
        "        Linear(in_features=2048, out_features=4096, bias=True),\n",
        "        ReLU(inplace=True),\n",
        "        Dropout(p=0.5, inplace=False),\n",
        "        Linear(in_features=4096, out_features=2048, bias=True),\n",
        "        ReLU(inplace=True),\n",
        "        Dropout(p=0.5, inplace=False),\n",
        "        Linear(in_features=2048, out_features=2, bias=True),\n",
        "        )\n",
        "\n",
        "    def forward(self, x):\n",
        "        features = self.feature_extractor(x)\n",
        "        predictions = self.classifier(features)\n",
        "        return features, predictions\n",
        "\n",
        "myclassifier3 = EndToEndCLF().to(device)\n",
        "\n",
        "# Define loss and optimizer\n",
        "optimizer = torch.optim.Adam(myclassifier3.parameters(), lr=0.001)\n",
        "scheduler = torch.optim.lr_scheduler.StepLR(optimizer, step_size=10, gamma=0.1)\n",
        "criterion = torch.nn.CrossEntropyLoss()\n",
        "triplet_loss = nn.TripletMarginLoss()\n"
      ]
    },
    {
      "cell_type": "code",
      "execution_count": null,
      "metadata": {
        "colab": {
          "base_uri": "https://localhost:8080/"
        },
        "id": "bjyaW0t9qOVc",
        "outputId": "9463bb17-5846-43b6-eae1-3550c47d90a5"
      },
      "outputs": [
        {
          "name": "stderr",
          "output_type": "stream",
          "text": [
            "Epoch 1/20: 100%|██████████| 79/79 [02:20<00:00,  1.78s/it]\n"
          ]
        },
        {
          "name": "stdout",
          "output_type": "stream",
          "text": [
            "Accuracy: 97.87, Total Loss: 0.1954\n",
            ", Triple Loss: 0.1221, , CE Loss: 0.0733\n"
          ]
        },
        {
          "name": "stderr",
          "output_type": "stream",
          "text": [
            "Epoch 2/20: 100%|██████████| 79/79 [02:23<00:00,  1.82s/it]\n"
          ]
        },
        {
          "name": "stdout",
          "output_type": "stream",
          "text": [
            "Accuracy: 99.02, Total Loss: 0.1031\n",
            ", Triple Loss: 0.0639, , CE Loss: 0.0392\n"
          ]
        },
        {
          "name": "stderr",
          "output_type": "stream",
          "text": [
            "Epoch 3/20: 100%|██████████| 79/79 [02:20<00:00,  1.77s/it]\n"
          ]
        },
        {
          "name": "stdout",
          "output_type": "stream",
          "text": [
            "Accuracy: 99.47, Total Loss: 0.0567\n",
            ", Triple Loss: 0.0335, , CE Loss: 0.0232\n"
          ]
        },
        {
          "name": "stderr",
          "output_type": "stream",
          "text": [
            "Epoch 4/20: 100%|██████████| 79/79 [02:23<00:00,  1.82s/it]\n"
          ]
        },
        {
          "name": "stdout",
          "output_type": "stream",
          "text": [
            "Accuracy: 99.67, Total Loss: 0.0373\n",
            ", Triple Loss: 0.0218, , CE Loss: 0.0155\n"
          ]
        },
        {
          "name": "stderr",
          "output_type": "stream",
          "text": [
            "Epoch 5/20: 100%|██████████| 79/79 [02:40<00:00,  2.03s/it]\n"
          ]
        },
        {
          "name": "stdout",
          "output_type": "stream",
          "text": [
            "Accuracy: 99.67, Total Loss: 0.0333\n",
            ", Triple Loss: 0.0201, , CE Loss: 0.0132\n"
          ]
        },
        {
          "name": "stderr",
          "output_type": "stream",
          "text": [
            "Epoch 6/20: 100%|██████████| 79/79 [02:27<00:00,  1.87s/it]\n"
          ]
        },
        {
          "name": "stdout",
          "output_type": "stream",
          "text": [
            "Accuracy: 99.39, Total Loss: 0.0664\n",
            ", Triple Loss: 0.0421, , CE Loss: 0.0244\n"
          ]
        },
        {
          "name": "stderr",
          "output_type": "stream",
          "text": [
            "Epoch 7/20: 100%|██████████| 79/79 [02:13<00:00,  1.70s/it]\n"
          ]
        },
        {
          "name": "stdout",
          "output_type": "stream",
          "text": [
            "Accuracy: 99.52, Total Loss: 0.0402\n",
            ", Triple Loss: 0.0240, , CE Loss: 0.0162\n"
          ]
        },
        {
          "name": "stderr",
          "output_type": "stream",
          "text": [
            "Epoch 8/20: 100%|██████████| 79/79 [02:17<00:00,  1.74s/it]\n"
          ]
        },
        {
          "name": "stdout",
          "output_type": "stream",
          "text": [
            "Accuracy: 99.87, Total Loss: 0.0129\n",
            ", Triple Loss: 0.0069, , CE Loss: 0.0060\n"
          ]
        },
        {
          "name": "stderr",
          "output_type": "stream",
          "text": [
            "Epoch 9/20: 100%|██████████| 79/79 [02:14<00:00,  1.70s/it]\n"
          ]
        },
        {
          "name": "stdout",
          "output_type": "stream",
          "text": [
            "Accuracy: 99.93, Total Loss: 0.0101\n",
            ", Triple Loss: 0.0069, , CE Loss: 0.0032\n"
          ]
        },
        {
          "name": "stderr",
          "output_type": "stream",
          "text": [
            "Epoch 10/20: 100%|██████████| 79/79 [02:13<00:00,  1.70s/it]\n"
          ]
        },
        {
          "name": "stdout",
          "output_type": "stream",
          "text": [
            "Accuracy: 99.98, Total Loss: 0.0048\n",
            ", Triple Loss: 0.0017, , CE Loss: 0.0031\n"
          ]
        },
        {
          "name": "stderr",
          "output_type": "stream",
          "text": [
            "Epoch 11/20: 100%|██████████| 79/79 [02:15<00:00,  1.71s/it]\n"
          ]
        },
        {
          "name": "stdout",
          "output_type": "stream",
          "text": [
            "Accuracy: 99.98, Total Loss: 0.0031\n",
            ", Triple Loss: 0.0011, , CE Loss: 0.0020\n"
          ]
        },
        {
          "name": "stderr",
          "output_type": "stream",
          "text": [
            "Epoch 12/20: 100%|██████████| 79/79 [02:12<00:00,  1.68s/it]\n"
          ]
        },
        {
          "name": "stdout",
          "output_type": "stream",
          "text": [
            "Accuracy: 100.00, Total Loss: 0.0021\n",
            ", Triple Loss: 0.0003, , CE Loss: 0.0017\n"
          ]
        },
        {
          "name": "stderr",
          "output_type": "stream",
          "text": [
            "Epoch 13/20: 100%|██████████| 79/79 [02:12<00:00,  1.67s/it]\n"
          ]
        },
        {
          "name": "stdout",
          "output_type": "stream",
          "text": [
            "Accuracy: 100.00, Total Loss: 0.0016\n",
            ", Triple Loss: 0.0000, , CE Loss: 0.0015\n"
          ]
        },
        {
          "name": "stderr",
          "output_type": "stream",
          "text": [
            "Epoch 14/20: 100%|██████████| 79/79 [02:14<00:00,  1.70s/it]\n"
          ]
        },
        {
          "name": "stdout",
          "output_type": "stream",
          "text": [
            "Accuracy: 100.00, Total Loss: 0.0013\n",
            ", Triple Loss: 0.0001, , CE Loss: 0.0013\n"
          ]
        },
        {
          "name": "stderr",
          "output_type": "stream",
          "text": [
            "Epoch 15/20: 100%|██████████| 79/79 [02:12<00:00,  1.68s/it]\n"
          ]
        },
        {
          "name": "stdout",
          "output_type": "stream",
          "text": [
            "Accuracy: 100.00, Total Loss: 0.0016\n",
            ", Triple Loss: 0.0005, , CE Loss: 0.0011\n"
          ]
        },
        {
          "name": "stderr",
          "output_type": "stream",
          "text": [
            "Epoch 16/20: 100%|██████████| 79/79 [02:12<00:00,  1.67s/it]\n"
          ]
        },
        {
          "name": "stdout",
          "output_type": "stream",
          "text": [
            "Accuracy: 99.99, Total Loss: 0.0015\n",
            ", Triple Loss: 0.0002, , CE Loss: 0.0012\n"
          ]
        },
        {
          "name": "stderr",
          "output_type": "stream",
          "text": [
            "Epoch 17/20: 100%|██████████| 79/79 [02:16<00:00,  1.73s/it]\n"
          ]
        },
        {
          "name": "stdout",
          "output_type": "stream",
          "text": [
            "Accuracy: 100.00, Total Loss: 0.0010\n",
            ", Triple Loss: 0.0001, , CE Loss: 0.0010\n"
          ]
        },
        {
          "name": "stderr",
          "output_type": "stream",
          "text": [
            "Epoch 18/20: 100%|██████████| 79/79 [02:12<00:00,  1.68s/it]\n"
          ]
        },
        {
          "name": "stdout",
          "output_type": "stream",
          "text": [
            "Accuracy: 100.00, Total Loss: 0.0012\n",
            ", Triple Loss: 0.0001, , CE Loss: 0.0011\n"
          ]
        },
        {
          "name": "stderr",
          "output_type": "stream",
          "text": [
            "Epoch 19/20: 100%|██████████| 79/79 [02:12<00:00,  1.68s/it]\n"
          ]
        },
        {
          "name": "stdout",
          "output_type": "stream",
          "text": [
            "Accuracy: 100.00, Total Loss: 0.0018\n",
            ", Triple Loss: 0.0004, , CE Loss: 0.0014\n"
          ]
        },
        {
          "name": "stderr",
          "output_type": "stream",
          "text": [
            "Epoch 20/20: 100%|██████████| 79/79 [02:12<00:00,  1.68s/it]"
          ]
        },
        {
          "name": "stdout",
          "output_type": "stream",
          "text": [
            "Accuracy: 100.00, Total Loss: 0.0027\n",
            ", Triple Loss: 0.0009, , CE Loss: 0.0017\n"
          ]
        },
        {
          "name": "stderr",
          "output_type": "stream",
          "text": [
            "\n"
          ]
        }
      ],
      "source": [
        "loss_list = []\n",
        "loss_triple_list = []\n",
        "loss_ce_list = []\n",
        "\n",
        "num_epochs = 20\n",
        "\n",
        "for epoch in range(num_epochs):\n",
        "    myclassifier3.train()\n",
        "    total_loss = 0.0\n",
        "    loss_triple = 0.0\n",
        "    loss_ce = 0.0\n",
        "    accuracy_list = []\n",
        "\n",
        "    for anchor, positive, negative, label in tqdm(triplet_train_loader, desc=f'Epoch {epoch + 1}/{num_epochs}'):\n",
        "        label = label.to(device)\n",
        "\n",
        "        optimizer.zero_grad()\n",
        "\n",
        "        anchor_embedding, pred = myclassifier3(anchor.to(device))\n",
        "        positive_embedding, _  = myclassifier3(positive.to(device))\n",
        "        negative_embedding, _  = myclassifier3(negative.to(device))\n",
        "\n",
        "        loss_tri = triplet_loss(\n",
        "            anchor_embedding,\n",
        "            positive_embedding,\n",
        "            negative_embedding\n",
        "        )\n",
        "\n",
        "        loss_ce = criterion(pred, label)\n",
        "        # total loss\n",
        "        loss = loss_tri + loss_ce\n",
        "\n",
        "        loss.backward()\n",
        "        optimizer.step()\n",
        "\n",
        "        # Update running loss\n",
        "        total_loss += loss.item()\n",
        "        loss_triple += loss_tri.item()\n",
        "        loss_ce += loss_ce.item()\n",
        "\n",
        "         # Measure accuracy\n",
        "        _, predicted = torch.max(pred, 1)\n",
        "        correct = (predicted == label).sum().item()\n",
        "        accuracy_list.append(correct/label.size(0))\n",
        "\n",
        "    epoch_loss = total_loss / len(triplet_train_loader)\n",
        "    epoch_loss_triple = loss_triple / len(triplet_train_loader)\n",
        "    epoch_loss_ce = loss_ce / len(triplet_train_loader)\n",
        "\n",
        "    accuracy = np.mean(accuracy_list)\n",
        "    scheduler.step()\n",
        "\n",
        "    print(f'Accuracy: {100*accuracy:.2f}, Total Loss: {epoch_loss:.4f}\\n, Triple Loss: {epoch_loss_triple:.4f}, , CE Loss: {epoch_loss-epoch_loss_triple:.4f}')\n",
        "    loss_list.append(epoch_loss)\n",
        "    loss_triple_list.append(epoch_loss_triple)\n",
        "    loss_ce_list.append(epoch_loss-epoch_loss_triple)\n"
      ]
    },
    {
      "cell_type": "code",
      "execution_count": null,
      "metadata": {
        "colab": {
          "base_uri": "https://localhost:8080/",
          "height": 313
        },
        "id": "2wMa01tpywFx",
        "outputId": "d33c09b7-8a96-4cbc-89aa-dfe8b995a467"
      },
      "outputs": [
        {
          "data": {
            "image/png": "[encoded data removed]",
            "text/plain": [
              "<Figure size 1200x500 with 1 Axes>"
            ]
          },
          "metadata": {},
          "output_type": "display_data"
        }
      ],
      "source": [
        "\n",
        "plt.figure(figsize=(12, 5))\n",
        "\n",
        "plt.plot(loss_list, marker='o')\n",
        "plt.plot(loss_triple_list, marker='o',c='r')\n",
        "plt.plot(loss_ce_list, marker='o',c='g')\n",
        "\n",
        "plt.title('Losses')\n",
        "plt.xlabel('Epoch')\n",
        "plt.legend(['Total loss','Triple loss','CE loss'])\n",
        "plt.show()\n"
      ]
    },
    {
      "cell_type": "markdown",
      "metadata": {
        "id": "iuQcE5cTN1N8"
      },
      "source": [
        "Accuracy diagram is almost a straight line. That is why it is not drawn."
      ]
    },
    {
      "cell_type": "code",
      "execution_count": null,
      "metadata": {
        "colab": {
          "base_uri": "https://localhost:8080/"
        },
        "id": "kH5cwVUpYm0J",
        "outputId": "8dc2a551-bce0-444a-dd33-e8770b0537f6"
      },
      "outputs": [
        {
          "name": "stderr",
          "output_type": "stream",
          "text": [
            "100%|██████████| 79/79 [00:03<00:00, 20.81it/s]"
          ]
        },
        {
          "name": "stdout",
          "output_type": "stream",
          "text": [
            "\n",
            " train accuracy : 99.71382\n"
          ]
        },
        {
          "name": "stderr",
          "output_type": "stream",
          "text": [
            "\n"
          ]
        }
      ],
      "source": [
        "myclassifier3.eval()\n",
        "with torch.no_grad():\n",
        "    train_accuracy = 0\n",
        "    for (data, targets) in tqdm(train_data_loader):\n",
        "        data = data.cuda()\n",
        "        targets = targets.cuda()\n",
        "        train_outputs = myclassifier3(data)\n",
        "        _, predicted_train = torch.max(train_outputs, 1)\n",
        "        train_accuracy += (predicted_train == targets).sum().item() / len(targets)\n",
        "\n",
        "\n",
        "print(f'\\n train accuracy : {(train_accuracy/len(train_data_loader))*100:.5f}')"
      ]
    },
    {
      "cell_type": "code",
      "execution_count": null,
      "metadata": {
        "colab": {
          "base_uri": "https://localhost:8080/"
        },
        "id": "ekdQvPkSYmyt",
        "outputId": "a235bbd4-c6df-4e08-8c3f-0e40c9280513"
      },
      "outputs": [
        {
          "name": "stderr",
          "output_type": "stream",
          "text": [
            "100%|██████████| 16/16 [00:01<00:00, 13.61it/s]"
          ]
        },
        {
          "name": "stdout",
          "output_type": "stream",
          "text": [
            "\n",
            " test accuracy : 99.60786\n"
          ]
        },
        {
          "name": "stderr",
          "output_type": "stream",
          "text": [
            "\n"
          ]
        }
      ],
      "source": [
        "myclassifier3.eval()\n",
        "with torch.no_grad():\n",
        "    test_accuracy = 0\n",
        "    for (data, targets) in tqdm(test_data_loader):\n",
        "        data = data.cuda()\n",
        "        targets = targets.cuda()\n",
        "        test_outputs = myclassifier3(data)\n",
        "        _, predicted_test = torch.max(test_outputs, 1)\n",
        "        test_accuracy += (predicted_test == targets).sum().item() / len(targets)\n",
        "\n",
        "print(f'\\n test accuracy : {(test_accuracy/len(test_data_loader))*100:.5f}')"
      ]
    },
    {
      "cell_type": "code",
      "execution_count": null,
      "metadata": {
        "id": "nC8k39rGYmw-"
      },
      "outputs": [],
      "source": [
        "torch.save(myclassifier3.state_dict(), '/content/drive/My Drive/DEEP/Q1/part3/resnet_endtoend.pth')"
      ]
    },
    {
      "cell_type": "markdown",
      "metadata": {
        "id": "3LQGJ7QUKXN3"
      },
      "source": [
        "# **END :\\**"
      ]
    }
  ],
  "metadata": {
    "colab": {
      "provenance": []
    },
    "kaggle": {
      "accelerator": "gpu",
      "dataSources": [],
      "dockerImageVersionId": 30616,
      "isGpuEnabled": true,
      "isInternetEnabled": true,
      "language": "python",
      "sourceType": "notebook"
    },
    "kernelspec": {
      "display_name": "Python 3",
      "name": "python3"
    },
    "language_info": {
      "codemirror_mode": {
        "name": "ipython",
        "version": 3
      },
      "file_extension": ".py",
      "mimetype": "text/x-python",
      "name": "python",
      "nbconvert_exporter": "python",
      "pygments_lexer": "ipython3",
      "version": "3.10.12"
    }
  },
  "nbformat": 4,
  "nbformat_minor": 0
}
